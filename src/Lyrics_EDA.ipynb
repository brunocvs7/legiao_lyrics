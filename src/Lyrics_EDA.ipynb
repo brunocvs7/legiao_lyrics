{
 "cells": [
  {
   "cell_type": "markdown",
   "metadata": {},
   "source": [
    "# 1. Dependências e Constantes"
   ]
  },
  {
   "cell_type": "code",
   "execution_count": 1,
   "metadata": {},
   "outputs": [
    {
     "name": "stderr",
     "output_type": "stream",
     "text": [
      "[nltk_data] Downloading package words to\n",
      "[nltk_data]     /Users/bruno.santos/nltk_data...\n",
      "[nltk_data]   Package words is already up-to-date!\n"
     ]
    }
   ],
   "source": [
    "# Import das Libs\n",
    "import os\n",
    "\n",
    "import warnings\n",
    "warnings.filterwarnings('ignore')\n",
    "import pandas as pd\n",
    "import numpy as np\n",
    "import nltk\n",
    "import gensim\n",
    "import seaborn as sns\n",
    "\n",
    "\n",
    "nltk.download('words')\n",
    "\n",
    "pd.set_option('display.max_rows', 150)\n",
    "from nltk.corpus import words\n",
    "from textblob import TextBlob\n",
    "from googletrans import Translator\n",
    "from tqdm import tqdm\n",
    "import matplotlib.pyplot as plt\n",
    "from PIL import Image\n",
    "from wordcloud import WordCloud, STOPWORDS, ImageColorGenerator\n",
    "import gensim.corpora as corpora\n",
    "from gensim.utils import simple_preprocess\n",
    "from gensim.models import CoherenceModel\n",
    "from nltk.sentiment.vader import SentimentIntensityAnalyzer\n",
    "\n",
    "from lyrics_analysis.clean_data import tokenize_lemmatize, word_count,  normalize, detect_lang_lyrics\n",
    "from lyrics_analysis.analyse_data import n_most_common"
   ]
  },
  {
   "cell_type": "code",
   "execution_count": 2,
   "metadata": {},
   "outputs": [],
   "source": [
    "import pandas as pd\n",
    "import numpy as np\n",
    "data = np.random.randn(5000, 1)\n",
    "df = pd.DataFrame(data, columns=[\"value\"])"
   ]
  },
  {
   "cell_type": "code",
   "execution_count": 3,
   "metadata": {},
   "outputs": [],
   "source": [
    "# Constantes\n",
    "DATA_RAW_NAME = 'lyrics.csv'\n",
    "DATA_STOPWORDS_NAME = 'stopwords.txt'\n",
    "DATA_PROCESSED_NAME = 'lyrics_processed.csv'\n",
    "DATA_RAW_PATH =  os.path.abspath(os.path.join('..', 'data','raw', DATA_RAW_NAME))\n",
    "DATA_STOPWORDS_PATH = os.path.abspath(os.path.join('..', 'data','raw', DATA_STOPWORDS_NAME))\n",
    "DATA_PROCESSED_PATH = os.path.abspath(os.path.join('..', 'data','processed', DATA_PROCESSED_NAME ))"
   ]
  },
  {
   "cell_type": "code",
   "execution_count": 4,
   "metadata": {},
   "outputs": [],
   "source": [
    "# Dados\n",
    "lyrics_raw = pd.read_csv(DATA_RAW_PATH)\n",
    "stopwords = pd.read_csv(DATA_STOPWORDS_PATH)\n",
    "stopwords = stopwords['stopwords'].tolist()\n",
    "stopwords = list(map(lambda x: x.replace(' ', ''),stopwords))\n",
    "stopwords += words.words()"
   ]
  },
  {
   "cell_type": "markdown",
   "metadata": {},
   "source": [
    "# 2. Limpeza Inicial"
   ]
  },
  {
   "cell_type": "code",
   "execution_count": 4,
   "metadata": {},
   "outputs": [
    {
     "data": {
      "text/html": [
       "<div>\n",
       "<style scoped>\n",
       "    .dataframe tbody tr th:only-of-type {\n",
       "        vertical-align: middle;\n",
       "    }\n",
       "\n",
       "    .dataframe tbody tr th {\n",
       "        vertical-align: top;\n",
       "    }\n",
       "\n",
       "    .dataframe thead th {\n",
       "        text-align: right;\n",
       "    }\n",
       "</style>\n",
       "<table border=\"1\" class=\"dataframe\">\n",
       "  <thead>\n",
       "    <tr style=\"text-align: right;\">\n",
       "      <th></th>\n",
       "      <th>group</th>\n",
       "      <th>lyrics_title</th>\n",
       "      <th>lyrics_text</th>\n",
       "    </tr>\n",
       "  </thead>\n",
       "  <tbody>\n",
       "    <tr>\n",
       "      <th>0</th>\n",
       "      <td>Legião Urbana</td>\n",
       "      <td>1° de Julho</td>\n",
       "      <td>Eu vejo que aprendi O quanto te ensinei E é n...</td>\n",
       "    </tr>\n",
       "    <tr>\n",
       "      <th>1</th>\n",
       "      <td>Legião Urbana</td>\n",
       "      <td>1965 (Duas Tribos)</td>\n",
       "      <td>Vou passar Quero ver Volta aqui Vem você Como...</td>\n",
       "    </tr>\n",
       "    <tr>\n",
       "      <th>2</th>\n",
       "      <td>Legião Urbana</td>\n",
       "      <td>1977</td>\n",
       "      <td>Todos os dias quando acordo de manhã Não tenh...</td>\n",
       "    </tr>\n",
       "    <tr>\n",
       "      <th>3</th>\n",
       "      <td>Legião Urbana</td>\n",
       "      <td>A Canção Do Senhor Da Guerra</td>\n",
       "      <td>Existe alguém esperando por você Que vai comp...</td>\n",
       "    </tr>\n",
       "    <tr>\n",
       "      <th>4</th>\n",
       "      <td>Legião Urbana</td>\n",
       "      <td>A Cruz e a Espada</td>\n",
       "      <td>Havia um tempo, em que eu vivia Um sentimento...</td>\n",
       "    </tr>\n",
       "    <tr>\n",
       "      <th>...</th>\n",
       "      <td>...</td>\n",
       "      <td>...</td>\n",
       "      <td>...</td>\n",
       "    </tr>\n",
       "    <tr>\n",
       "      <th>3424</th>\n",
       "      <td>Los Hermanos</td>\n",
       "      <td>Um Par</td>\n",
       "      <td>Mesmo quando ele consegue o que ele quis, Qua...</td>\n",
       "    </tr>\n",
       "    <tr>\n",
       "      <th>3425</th>\n",
       "      <td>Los Hermanos</td>\n",
       "      <td>Uma Brasileira</td>\n",
       "      <td>Rodas em sol, Trovas em dó Uma brasileira, ô ...</td>\n",
       "    </tr>\n",
       "    <tr>\n",
       "      <th>3426</th>\n",
       "      <td>Los Hermanos</td>\n",
       "      <td>Vai Embora</td>\n",
       "      <td>Não sei mais o que fazer da minha vida sem vo...</td>\n",
       "    </tr>\n",
       "    <tr>\n",
       "      <th>3427</th>\n",
       "      <td>Los Hermanos</td>\n",
       "      <td>Vambora</td>\n",
       "      <td>Entre por essa porta agora E diga que me ador...</td>\n",
       "    </tr>\n",
       "    <tr>\n",
       "      <th>3428</th>\n",
       "      <td>Los Hermanos</td>\n",
       "      <td>Veja Bem, Meu Bem</td>\n",
       "      <td>Veja bem, meu bem Sinto te informar que arran...</td>\n",
       "    </tr>\n",
       "  </tbody>\n",
       "</table>\n",
       "<p>3429 rows × 3 columns</p>\n",
       "</div>"
      ],
      "text/plain": [
       "              group                  lyrics_title  \\\n",
       "0     Legião Urbana                   1° de Julho   \n",
       "1     Legião Urbana            1965 (Duas Tribos)   \n",
       "2     Legião Urbana                          1977   \n",
       "3     Legião Urbana  A Canção Do Senhor Da Guerra   \n",
       "4     Legião Urbana             A Cruz e a Espada   \n",
       "...             ...                           ...   \n",
       "3424   Los Hermanos                        Um Par   \n",
       "3425   Los Hermanos                Uma Brasileira   \n",
       "3426   Los Hermanos                    Vai Embora   \n",
       "3427   Los Hermanos                       Vambora   \n",
       "3428   Los Hermanos             Veja Bem, Meu Bem   \n",
       "\n",
       "                                            lyrics_text  \n",
       "0      Eu vejo que aprendi O quanto te ensinei E é n...  \n",
       "1      Vou passar Quero ver Volta aqui Vem você Como...  \n",
       "2      Todos os dias quando acordo de manhã Não tenh...  \n",
       "3      Existe alguém esperando por você Que vai comp...  \n",
       "4      Havia um tempo, em que eu vivia Um sentimento...  \n",
       "...                                                 ...  \n",
       "3424   Mesmo quando ele consegue o que ele quis, Qua...  \n",
       "3425   Rodas em sol, Trovas em dó Uma brasileira, ô ...  \n",
       "3426   Não sei mais o que fazer da minha vida sem vo...  \n",
       "3427   Entre por essa porta agora E diga que me ador...  \n",
       "3428   Veja bem, meu bem Sinto te informar que arran...  \n",
       "\n",
       "[3429 rows x 3 columns]"
      ]
     },
     "execution_count": 4,
     "metadata": {},
     "output_type": "execute_result"
    }
   ],
   "source": [
    "lyrics_raw"
   ]
  },
  {
   "cell_type": "code",
   "execution_count": 5,
   "metadata": {},
   "outputs": [
    {
     "name": "stderr",
     "output_type": "stream",
     "text": [
      "100%|██████████| 3429/3429 [38:37<00:00,  1.48it/s] \n"
     ]
    }
   ],
   "source": [
    "# Filtrando \n",
    "lyrics_raw_lang = detect_lang_lyrics(lyrics_raw, 'lyrics_text')\n"
   ]
  },
  {
   "cell_type": "code",
   "execution_count": 92,
   "metadata": {},
   "outputs": [
    {
     "data": {
      "text/plain": [
       "['Bruno', 'Carlos']"
      ]
     },
     "execution_count": 92,
     "metadata": {},
     "output_type": "execute_result"
    }
   ],
   "source": [
    "\"Bruno Carlos\".split()"
   ]
  },
  {
   "cell_type": "code",
   "execution_count": 10,
   "metadata": {},
   "outputs": [
    {
     "data": {
      "image/png": "[encoded data removed]",
      "text/plain": [
       "<Figure size 792x792 with 1 Axes>"
      ]
     },
     "metadata": {
      "needs_background": "light"
     },
     "output_type": "display_data"
    }
   ],
   "source": [
    "# QUe idiomas temos?\n",
    "fig, ax = plt.subplots(figsize=(11, 11))\n",
    "\n",
    "ax = sns.countplot(x=\"lang\", data=lyrics_raw_lang)\n",
    "plt.savefig(os.path.abspath(os.path.join(os.getcwd(),'..', 'img','lang_freq.jpg')))"
   ]
  },
  {
   "cell_type": "code",
   "execution_count": 11,
   "metadata": {},
   "outputs": [],
   "source": [
    "#Lower casing\n",
    "lyrics_lang_normalized = normalize(lyrics_raw_lang, 'lyrics_text', 'lyrics_text_normalized')"
   ]
  },
  {
   "cell_type": "code",
   "execution_count": 12,
   "metadata": {},
   "outputs": [
    {
     "data": {
      "text/plain": [
       "27"
      ]
     },
     "execution_count": 12,
     "metadata": {},
     "output_type": "execute_result"
    }
   ],
   "source": [
    "#Quantos instrumentais temos?\n",
    "(lyrics_lang_normalized['lyrics_text_normalized'].str.contains('instrumental')).sum()"
   ]
  },
  {
   "cell_type": "code",
   "execution_count": 13,
   "metadata": {},
   "outputs": [],
   "source": [
    "# Removendo os instrumentais\n",
    "lyrics_lang_normalized['is_instrumental'] = lyrics_lang_normalized['lyrics_text_normalized'].str.contains('instrumental')\n",
    "lyrics_lang_normalized = lyrics_lang_normalized[lyrics_lang_normalized['is_instrumental'] == False]\n"
   ]
  },
  {
   "cell_type": "code",
   "execution_count": 14,
   "metadata": {},
   "outputs": [],
   "source": [
    "# Replace para substituir gíria usada \n",
    "lyrics_lang_normalized['lyrics_text_normalized'] = lyrics_lang_normalized['lyrics_text_normalized'].apply(lambda x: x.replace('pra', 'para'))"
   ]
  },
  {
   "cell_type": "code",
   "execution_count": 15,
   "metadata": {},
   "outputs": [],
   "source": [
    "# Filtrando para remover os erros na identificação da linguagem e as músicas que são instrumentais\n",
    "lyrics_lang_normalized = lyrics_lang_normalized.loc[(lyrics_lang_normalized['is_instrumental']==False) | (lyrics_lang_normalized['lang']=='Error'),:]"
   ]
  },
  {
   "cell_type": "code",
   "execution_count": 16,
   "metadata": {},
   "outputs": [
    {
     "name": "stderr",
     "output_type": "stream",
     "text": [
      "3402it [43:53,  1.29it/s]\n"
     ]
    }
   ],
   "source": [
    "# Traduzindo as músicas de outro idioma para o português\n",
    "lyrics_translated_pt= []\n",
    "lyrics_translated_en = []\n",
    "trl = Translator()\n",
    "for lang, lyrics_text_normalized in tqdm(zip(lyrics_lang_normalized['lang'],lyrics_lang_normalized['lyrics_text_normalized'])):\n",
    "    sent = lyrics_text_normalized\n",
    "    try:\n",
    "        lyrics_translated_pt.append(trl.translate(sent, src = lang, dest='pt').text)\n",
    "    except:\n",
    "        lyrics_translated_pt.append('Error')\n",
    "        \n",
    "    try:\n",
    "        lyrics_translated_en.append(trl.translate(sent, src = lang, dest = 'en').text)\n",
    "    except:\n",
    "        lyrics_translated_en.append('Error')\n"
   ]
  },
  {
   "cell_type": "code",
   "execution_count": 17,
   "metadata": {},
   "outputs": [],
   "source": [
    "lyrics_lang_normalized['lyrics_text_normalized_en'] = lyrics_translated_en\n",
    "lyrics_lang_normalized['lyrics_text_normalized_pt'] = lyrics_translated_pt"
   ]
  },
  {
   "cell_type": "code",
   "execution_count": 19,
   "metadata": {},
   "outputs": [],
   "source": [
    "lyrics_lang_normalized_tokenized = tokenize_lemmatize(lyrics_lang_normalized, column = 'lyrics_text_normalized_pt', \n",
    "                                       new_name='lyrics_text_normalized_tokenized_pt', remove_stopwords=True, stopwords=stopwords)"
   ]
  },
  {
   "cell_type": "code",
   "execution_count": 20,
   "metadata": {},
   "outputs": [],
   "source": [
    "lyrics_lang_normalized_tokenized.to_csv(DATA_PROCESSED_PATH, index = False)"
   ]
  },
  {
   "cell_type": "markdown",
   "metadata": {},
   "source": [
    "# 3.Análise Exploratória"
   ]
  },
  {
   "cell_type": "markdown",
   "metadata": {},
   "source": [
    "## 3.2 Word Cloud"
   ]
  },
  {
   "cell_type": "code",
   "execution_count": 5,
   "metadata": {},
   "outputs": [],
   "source": [
    "lyrics_lang_normalized_tokenized = pd.read_csv(DATA_PROCESSED_PATH)"
   ]
  },
  {
   "cell_type": "code",
   "execution_count": 6,
   "metadata": {},
   "outputs": [],
   "source": [
    "lyrics_lang_normalized_tokenized = lyrics_lang_normalized_tokenized[(lyrics_lang_normalized_tokenized['lyrics_text_normalized_pt'] != 'Error') \n",
    "                                                          & (lyrics_lang_normalized_tokenized['lyrics_text_normalized_en'] != 'Error')]"
   ]
  },
  {
   "cell_type": "code",
   "execution_count": 7,
   "metadata": {},
   "outputs": [],
   "source": [
    "lyrics_lang_normalized_tokenized['lyrics_text_normalized_tokenized_pt'] = lyrics_lang_normalized_tokenized['lyrics_text_normalized_tokenized_pt'].str.split()"
   ]
  },
  {
   "cell_type": "code",
   "execution_count": 8,
   "metadata": {},
   "outputs": [],
   "source": [
    "lyrics_lang_normalized_tokenized = lyrics_lang_normalized_tokenized[lyrics_lang_normalized_tokenized['lyrics_text_normalized_tokenized_pt'].apply(lambda x: type(x)==list)]"
   ]
  },
  {
   "cell_type": "code",
   "execution_count": 9,
   "metadata": {},
   "outputs": [],
   "source": [
    "top10terms = n_most_common(lyrics_lang_normalized_tokenized, 'lyrics_text_normalized_tokenized_pt', n=10)"
   ]
  },
  {
   "cell_type": "code",
   "execution_count": 13,
   "metadata": {},
   "outputs": [
    {
     "data": {
      "image/png": "[encoded data removed]",
      "text/plain": [
       "<Figure size 720x720 with 1 Axes>"
      ]
     },
     "metadata": {
      "needs_background": "light"
     },
     "output_type": "display_data"
    }
   ],
   "source": [
    "fig, ax = plt.subplots(figsize=(10, 10))\n",
    "\n",
    "# Plot horizontal bar graph\n",
    "top10terms.sort_values(by='count').plot.barh(x='tokens',\n",
    "                      y='count',\n",
    "                      ax=ax,\n",
    "                      color=\"green\")\n",
    "\n",
    "ax.set_title(\"Top 10 Palavras Encontradas\")\n",
    "\n",
    "plt.savefig(os.path.abspath(os.path.join('..', 'img','top_10_tokens.jpg')))\n",
    "plt.show()\n",
    "\n"
   ]
  },
  {
   "cell_type": "code",
   "execution_count": 20,
   "metadata": {},
   "outputs": [
    {
     "data": {
      "image/png": "[encoded data removed]",
      "text/plain": [
       "<Figure size 576x576 with 1 Axes>"
      ]
     },
     "metadata": {
      "needs_background": "light"
     },
     "output_type": "display_data"
    }
   ],
   "source": [
    "import itertools\n",
    "all_tokens = lyrics_lang_normalized_tokenized['lyrics_text_normalized_tokenized_pt'].tolist()\n",
    "all_tokens = list(itertools.chain(*all_tokens))\n",
    "wordcloud = WordCloud(max_font_size=100, max_words=30, background_color=\"white\").generate(' '.join(all_tokens))\n",
    "plt.figure(figsize=(8, 8))\n",
    "plt.imshow(wordcloud, interpolation=\"bilinear\")\n",
    "plt.axis(\"off\")\n",
    "plt.savefig(os.path.abspath(os.path.join('..', 'img','word_cloud_50.jpg')))\n",
    "plt.show()"
   ]
  },
  {
   "cell_type": "markdown",
   "metadata": {},
   "source": [
    "## 3.3 Tokens per Artists"
   ]
  },
  {
   "cell_type": "code",
   "execution_count": 22,
   "metadata": {},
   "outputs": [
    {
     "name": "stderr",
     "output_type": "stream",
     "text": [
      "[nltk_data] Downloading package vader_lexicon to\n",
      "[nltk_data]     /Users/bruno.santos/nltk_data...\n",
      "[nltk_data]   Package vader_lexicon is already up-to-date!\n"
     ]
    },
    {
     "data": {
      "text/plain": [
       "True"
      ]
     },
     "execution_count": 22,
     "metadata": {},
     "output_type": "execute_result"
    }
   ],
   "source": [
    "nltk.download('vader_lexicon')"
   ]
  },
  {
   "cell_type": "code",
   "execution_count": 23,
   "metadata": {},
   "outputs": [],
   "source": [
    "sid = SentimentIntensityAnalyzer()"
   ]
  },
  {
   "cell_type": "code",
   "execution_count": 24,
   "metadata": {},
   "outputs": [
    {
     "data": {
      "text/plain": [
       "{'neg': 0.0, 'neu': 0.0, 'pos': 0.0, 'compound': 0.0}"
      ]
     },
     "execution_count": 24,
     "metadata": {},
     "output_type": "execute_result"
    }
   ],
   "source": [
    "sid.polarity_scores('h')"
   ]
  },
  {
   "cell_type": "code",
   "execution_count": 25,
   "metadata": {},
   "outputs": [],
   "source": [
    "lyrics_lang_normalized_tokenized['count_tokens'] = lyrics_lang_normalized_tokenized['lyrics_text_normalized_tokenized_pt'].apply(lambda x: len(x))"
   ]
  },
  {
   "cell_type": "code",
   "execution_count": 26,
   "metadata": {},
   "outputs": [
    {
     "data": {
      "image/png": "[encoded data removed]",
      "text/plain": [
       "<Figure size 1080x1080 with 1 Axes>"
      ]
     },
     "metadata": {
      "needs_background": "light"
     },
     "output_type": "display_data"
    }
   ],
   "source": [
    "plt.figure(figsize=(15,15))\n",
    "ax = sns.boxplot(x=\"count_tokens\", y=\"group\", data=lyrics_lang_normalized_tokenized, orient = 'h')\n",
    "plt.savefig(os.path.abspath(os.path.join(os.getcwd(),'..', 'img','tokens_per_artist.jpg')))"
   ]
  },
  {
   "cell_type": "markdown",
   "metadata": {},
   "source": [
    "## 3.4 Unique Tokens Per Artists\n"
   ]
  },
  {
   "cell_type": "code",
   "execution_count": 27,
   "metadata": {},
   "outputs": [],
   "source": [
    "list_unique_group = lyrics_lang_normalized_tokenized['group'].unique()\n",
    "group_unique_tokens = {}\n",
    "for group in list_unique_group:\n",
    "    all_tokens = lyrics_lang_normalized_tokenized.loc[lyrics_lang_normalized_tokenized['group']==group,'lyrics_text_normalized_tokenized_pt'].tolist()\n",
    "    all_tokens = list(itertools.chain(*all_tokens))\n",
    "    group_unique_tokens[group] = len(set(all_tokens))\n",
    "    "
   ]
  },
  {
   "cell_type": "code",
   "execution_count": 28,
   "metadata": {},
   "outputs": [],
   "source": [
    "unique_tokens = pd.DataFrame.from_dict(group_unique_tokens, orient = 'index').reset_index()"
   ]
  },
  {
   "cell_type": "code",
   "execution_count": 29,
   "metadata": {},
   "outputs": [],
   "source": [
    "unique_tokens.columns = ['group', 'unique_tokens']"
   ]
  },
  {
   "cell_type": "code",
   "execution_count": 30,
   "metadata": {},
   "outputs": [
    {
     "data": {
      "image/png": "[encoded data removed]",
      "text/plain": [
       "<Figure size 1080x1080 with 1 Axes>"
      ]
     },
     "metadata": {
      "needs_background": "light"
     },
     "output_type": "display_data"
    }
   ],
   "source": [
    "fig, ax = plt.subplots(figsize=(15, 15))\n",
    "\n",
    "# Plot horizontal bar graph\n",
    "unique_tokens.sort_values(by= 'unique_tokens').plot.barh(x='group',\n",
    "                      y='unique_tokens',\n",
    "                      ax=ax,\n",
    "                      color=\"green\")\n",
    "\n",
    "ax.set_title(\"Tokens Únicos por Artista\")\n",
    "\n",
    "plt.savefig(os.path.abspath(os.path.join('..', 'img','unique_tokens_per_artist.jpg')))\n",
    "plt.show()"
   ]
  },
  {
   "cell_type": "markdown",
   "metadata": {},
   "source": [
    "## 3.4 Número de Músicas por Artista"
   ]
  },
  {
   "cell_type": "code",
   "execution_count": 31,
   "metadata": {},
   "outputs": [],
   "source": [
    "group_count_lyrics = pd.DataFrame(lyrics_lang_normalized_tokenized['group'].value_counts().reset_index())\n",
    "group_count_lyrics.columns = ['group', 'n_lyrics']"
   ]
  },
  {
   "cell_type": "code",
   "execution_count": 33,
   "metadata": {},
   "outputs": [
    {
     "data": {
      "image/png": "[encoded data removed]",
      "text/plain": [
       "<Figure size 1080x1080 with 1 Axes>"
      ]
     },
     "metadata": {
      "needs_background": "light"
     },
     "output_type": "display_data"
    }
   ],
   "source": [
    "fig, ax = plt.subplots(figsize=(15, 15))\n",
    "\n",
    "# Plot horizontal bar graph\n",
    "group_count_lyrics.sort_values(by= 'n_lyrics').plot.barh(x='group',\n",
    "                      y='n_lyrics',\n",
    "                      ax=ax,\n",
    "                      color=\"green\")\n",
    "\n",
    "ax.set_title(\"Número de Músicas por Artista\")\n",
    "\n",
    "plt.savefig(os.path.abspath(os.path.join('..', 'img','lyrics_per_artist.jpg')))\n",
    "plt.show()\n",
    "\n"
   ]
  },
  {
   "cell_type": "code",
   "execution_count": 22,
   "metadata": {},
   "outputs": [],
   "source": [
    "unique_tokens_count_lyrics = group_count_lyrics.merge(unique_tokens, on ='group', how = 'inner')"
   ]
  },
  {
   "cell_type": "code",
   "execution_count": 23,
   "metadata": {},
   "outputs": [
    {
     "data": {
      "image/png": "[encoded data removed]",
      "text/plain": [
       "<Figure size 576x576 with 1 Axes>"
      ]
     },
     "metadata": {},
     "output_type": "display_data"
    }
   ],
   "source": [
    "sns.set()\n",
    "fig, ax = plt.subplots(figsize=(8, 8))\n",
    "\n",
    "ax = sns.scatterplot(x=\"unique_tokens\", y=\"n_lyrics\", data=unique_tokens_count_lyrics)\n",
    "plt.savefig(os.path.abspath(os.path.join('..', 'img','unique_tokens_vs_n_lyrics.jpg')))"
   ]
  },
  {
   "cell_type": "markdown",
   "metadata": {},
   "source": [
    "## 3.5 Sentimento"
   ]
  },
  {
   "cell_type": "code",
   "execution_count": 24,
   "metadata": {},
   "outputs": [
    {
     "name": "stderr",
     "output_type": "stream",
     "text": [
      "100%|██████████| 3391/3391 [00:02<00:00, 1199.51it/s]\n"
     ]
    }
   ],
   "source": [
    "sentiment_lyrics = []\n",
    "for lyrics_text in tqdm(lyrics_lang_normalized_tokenized['lyrics_text_normalized_en']):\n",
    "    try:\n",
    "        lyrics_text_blob = TextBlob(lyrics_text)\n",
    "        sentiment_lyrics.append(lyrics_text_blob.sentiment[0])\n",
    "    except:\n",
    "        sentiment_lyrics.append(-999)\n",
    "lyrics_lang_normalized_tokenized['lyrics_sentiment'] = sentiment_lyrics\n",
    "lyrics_lang_normalized_tokenized = lyrics_lang_normalized_tokenized[lyrics_lang_normalized_tokenized['lyrics_sentiment']!=-999]"
   ]
  },
  {
   "cell_type": "code",
   "execution_count": 25,
   "metadata": {},
   "outputs": [
    {
     "name": "stderr",
     "output_type": "stream",
     "text": [
      "100%|██████████| 3391/3391 [00:03<00:00, 863.93it/s] \n"
     ]
    }
   ],
   "source": [
    "sentiment_lyrics_pos = []\n",
    "sentiment_lyrics_neu = []\n",
    "sentiment_lyrics_neg = []\n",
    "\n",
    "for lyrics_text in tqdm(lyrics_lang_normalized_tokenized['lyrics_text_normalized_en']):\n",
    "    try:\n",
    "        lyrics_text_sentiment = sid.polarity_scores(lyrics_text)\n",
    "        sentiment_lyrics_pos.append(lyrics_text_sentiment['pos'])\n",
    "        sentiment_lyrics_neg.append(lyrics_text_sentiment['neg'])\n",
    "        sentiment_lyrics_neu.append(lyrics_text_sentiment['neu'])\n",
    "\n",
    "    except:\n",
    "        sentiment_lyrics_pos.append(-999)\n",
    "        sentiment_lyrics_neg.append(-999)\n",
    "        sentiment_lyrics_neu.append(-999)\n",
    "lyrics_lang_normalized_tokenized['lyrics_sentiment_vader_pos'] = sentiment_lyrics_pos\n",
    "lyrics_lang_normalized_tokenized['lyrics_sentiment_vader_neg'] = sentiment_lyrics_neg\n",
    "lyrics_lang_normalized_tokenized['lyrics_sentiment_vader_neu'] = sentiment_lyrics_neu\n",
    "\n",
    "lyrics_lang_normalized_tokenized = lyrics_lang_normalized_tokenized[(lyrics_lang_normalized_tokenized['lyrics_sentiment_vader_pos']!=-999) & (lyrics_lang_normalized_tokenized['lyrics_sentiment_vader_neg']!=-999) & (lyrics_lang_normalized_tokenized['lyrics_sentiment_vader_neu']!=-999)]"
   ]
  },
  {
   "cell_type": "code",
   "execution_count": 26,
   "metadata": {},
   "outputs": [],
   "source": [
    "sentiment_group_vader = lyrics_lang_normalized_tokenized.groupby(['group']).agg({'lyrics_sentiment_vader_pos':'mean', 'lyrics_sentiment_vader_neg':'mean','lyrics_sentiment_vader_neu':'mean'}).sort_values(by='lyrics_sentiment_vader_pos', ascending = False)"
   ]
  },
  {
   "cell_type": "code",
   "execution_count": 27,
   "metadata": {},
   "outputs": [
    {
     "data": {
      "text/html": [
       "<div>\n",
       "<style scoped>\n",
       "    .dataframe tbody tr th:only-of-type {\n",
       "        vertical-align: middle;\n",
       "    }\n",
       "\n",
       "    .dataframe tbody tr th {\n",
       "        vertical-align: top;\n",
       "    }\n",
       "\n",
       "    .dataframe thead th {\n",
       "        text-align: right;\n",
       "    }\n",
       "</style>\n",
       "<table border=\"1\" class=\"dataframe\">\n",
       "  <thead>\n",
       "    <tr style=\"text-align: right;\">\n",
       "      <th></th>\n",
       "      <th>lyrics_sentiment_vader_pos</th>\n",
       "      <th>lyrics_sentiment_vader_neg</th>\n",
       "      <th>lyrics_sentiment_vader_neu</th>\n",
       "    </tr>\n",
       "    <tr>\n",
       "      <th>group</th>\n",
       "      <th></th>\n",
       "      <th></th>\n",
       "      <th></th>\n",
       "    </tr>\n",
       "  </thead>\n",
       "  <tbody>\n",
       "    <tr>\n",
       "      <th>Roupa Nova</th>\n",
       "      <td>0.188152</td>\n",
       "      <td>0.072141</td>\n",
       "      <td>0.739714</td>\n",
       "    </tr>\n",
       "    <tr>\n",
       "      <th>Charlie Brown Jr.</th>\n",
       "      <td>0.160638</td>\n",
       "      <td>0.096633</td>\n",
       "      <td>0.742771</td>\n",
       "    </tr>\n",
       "    <tr>\n",
       "      <th>Rita Lee</th>\n",
       "      <td>0.157516</td>\n",
       "      <td>0.097274</td>\n",
       "      <td>0.745254</td>\n",
       "    </tr>\n",
       "    <tr>\n",
       "      <th>Barão Vermelho</th>\n",
       "      <td>0.156689</td>\n",
       "      <td>0.105383</td>\n",
       "      <td>0.737967</td>\n",
       "    </tr>\n",
       "    <tr>\n",
       "      <th>Los Hermanos</th>\n",
       "      <td>0.155394</td>\n",
       "      <td>0.088798</td>\n",
       "      <td>0.755856</td>\n",
       "    </tr>\n",
       "    <tr>\n",
       "      <th>Legião Urbana</th>\n",
       "      <td>0.144727</td>\n",
       "      <td>0.118187</td>\n",
       "      <td>0.737058</td>\n",
       "    </tr>\n",
       "    <tr>\n",
       "      <th>Kid Abelha</th>\n",
       "      <td>0.144686</td>\n",
       "      <td>0.091150</td>\n",
       "      <td>0.764137</td>\n",
       "    </tr>\n",
       "    <tr>\n",
       "      <th>Os Mutantes</th>\n",
       "      <td>0.143577</td>\n",
       "      <td>0.074350</td>\n",
       "      <td>0.782122</td>\n",
       "    </tr>\n",
       "    <tr>\n",
       "      <th>Os Paralamas do Sucesso</th>\n",
       "      <td>0.132296</td>\n",
       "      <td>0.092296</td>\n",
       "      <td>0.775463</td>\n",
       "    </tr>\n",
       "    <tr>\n",
       "      <th>O Rappa</th>\n",
       "      <td>0.127230</td>\n",
       "      <td>0.099320</td>\n",
       "      <td>0.773420</td>\n",
       "    </tr>\n",
       "    <tr>\n",
       "      <th>Skank</th>\n",
       "      <td>0.126559</td>\n",
       "      <td>0.081289</td>\n",
       "      <td>0.792171</td>\n",
       "    </tr>\n",
       "    <tr>\n",
       "      <th>Raimundos</th>\n",
       "      <td>0.119722</td>\n",
       "      <td>0.112293</td>\n",
       "      <td>0.768015</td>\n",
       "    </tr>\n",
       "    <tr>\n",
       "      <th>Titãs</th>\n",
       "      <td>0.117305</td>\n",
       "      <td>0.131230</td>\n",
       "      <td>0.751438</td>\n",
       "    </tr>\n",
       "    <tr>\n",
       "      <th>Angra</th>\n",
       "      <td>0.117246</td>\n",
       "      <td>0.130738</td>\n",
       "      <td>0.752032</td>\n",
       "    </tr>\n",
       "    <tr>\n",
       "      <th>Pitty</th>\n",
       "      <td>0.115259</td>\n",
       "      <td>0.104487</td>\n",
       "      <td>0.780280</td>\n",
       "    </tr>\n",
       "    <tr>\n",
       "      <th>Novos Baianos</th>\n",
       "      <td>0.114112</td>\n",
       "      <td>0.066398</td>\n",
       "      <td>0.819541</td>\n",
       "    </tr>\n",
       "    <tr>\n",
       "      <th>Capital Inicial</th>\n",
       "      <td>0.111150</td>\n",
       "      <td>0.112806</td>\n",
       "      <td>0.776029</td>\n",
       "    </tr>\n",
       "    <tr>\n",
       "      <th>Engenheiros do Hawaii</th>\n",
       "      <td>0.102834</td>\n",
       "      <td>0.098263</td>\n",
       "      <td>0.798876</td>\n",
       "    </tr>\n",
       "    <tr>\n",
       "      <th>Mamonas Assassinas</th>\n",
       "      <td>0.098400</td>\n",
       "      <td>0.101275</td>\n",
       "      <td>0.800300</td>\n",
       "    </tr>\n",
       "    <tr>\n",
       "      <th>Matanza</th>\n",
       "      <td>0.092800</td>\n",
       "      <td>0.157590</td>\n",
       "      <td>0.749570</td>\n",
       "    </tr>\n",
       "  </tbody>\n",
       "</table>\n",
       "</div>"
      ],
      "text/plain": [
       "                         lyrics_sentiment_vader_pos  \\\n",
       "group                                                 \n",
       "Roupa Nova                                 0.188152   \n",
       "Charlie Brown Jr.                          0.160638   \n",
       "Rita Lee                                   0.157516   \n",
       "Barão Vermelho                             0.156689   \n",
       "Los Hermanos                               0.155394   \n",
       "Legião Urbana                              0.144727   \n",
       "Kid Abelha                                 0.144686   \n",
       "Os Mutantes                                0.143577   \n",
       "Os Paralamas do Sucesso                    0.132296   \n",
       "O Rappa                                    0.127230   \n",
       "Skank                                      0.126559   \n",
       "Raimundos                                  0.119722   \n",
       "Titãs                                      0.117305   \n",
       "Angra                                      0.117246   \n",
       "Pitty                                      0.115259   \n",
       "Novos Baianos                              0.114112   \n",
       "Capital Inicial                            0.111150   \n",
       "Engenheiros do Hawaii                      0.102834   \n",
       "Mamonas Assassinas                         0.098400   \n",
       "Matanza                                    0.092800   \n",
       "\n",
       "                         lyrics_sentiment_vader_neg  \\\n",
       "group                                                 \n",
       "Roupa Nova                                 0.072141   \n",
       "Charlie Brown Jr.                          0.096633   \n",
       "Rita Lee                                   0.097274   \n",
       "Barão Vermelho                             0.105383   \n",
       "Los Hermanos                               0.088798   \n",
       "Legião Urbana                              0.118187   \n",
       "Kid Abelha                                 0.091150   \n",
       "Os Mutantes                                0.074350   \n",
       "Os Paralamas do Sucesso                    0.092296   \n",
       "O Rappa                                    0.099320   \n",
       "Skank                                      0.081289   \n",
       "Raimundos                                  0.112293   \n",
       "Titãs                                      0.131230   \n",
       "Angra                                      0.130738   \n",
       "Pitty                                      0.104487   \n",
       "Novos Baianos                              0.066398   \n",
       "Capital Inicial                            0.112806   \n",
       "Engenheiros do Hawaii                      0.098263   \n",
       "Mamonas Assassinas                         0.101275   \n",
       "Matanza                                    0.157590   \n",
       "\n",
       "                         lyrics_sentiment_vader_neu  \n",
       "group                                                \n",
       "Roupa Nova                                 0.739714  \n",
       "Charlie Brown Jr.                          0.742771  \n",
       "Rita Lee                                   0.745254  \n",
       "Barão Vermelho                             0.737967  \n",
       "Los Hermanos                               0.755856  \n",
       "Legião Urbana                              0.737058  \n",
       "Kid Abelha                                 0.764137  \n",
       "Os Mutantes                                0.782122  \n",
       "Os Paralamas do Sucesso                    0.775463  \n",
       "O Rappa                                    0.773420  \n",
       "Skank                                      0.792171  \n",
       "Raimundos                                  0.768015  \n",
       "Titãs                                      0.751438  \n",
       "Angra                                      0.752032  \n",
       "Pitty                                      0.780280  \n",
       "Novos Baianos                              0.819541  \n",
       "Capital Inicial                            0.776029  \n",
       "Engenheiros do Hawaii                      0.798876  \n",
       "Mamonas Assassinas                         0.800300  \n",
       "Matanza                                    0.749570  "
      ]
     },
     "execution_count": 27,
     "metadata": {},
     "output_type": "execute_result"
    }
   ],
   "source": [
    "sentiment_group_vader"
   ]
  },
  {
   "cell_type": "code",
   "execution_count": 28,
   "metadata": {},
   "outputs": [],
   "source": [
    "sentiment_group = lyrics_lang_normalized_tokenized.groupby(['group']).agg({'lyrics_sentiment':'mean'}).sort_values(by='lyrics_sentiment', ascending = False)"
   ]
  },
  {
   "cell_type": "code",
   "execution_count": 29,
   "metadata": {},
   "outputs": [
    {
     "data": {
      "text/html": [
       "<div>\n",
       "<style scoped>\n",
       "    .dataframe tbody tr th:only-of-type {\n",
       "        vertical-align: middle;\n",
       "    }\n",
       "\n",
       "    .dataframe tbody tr th {\n",
       "        vertical-align: top;\n",
       "    }\n",
       "\n",
       "    .dataframe thead th {\n",
       "        text-align: right;\n",
       "    }\n",
       "</style>\n",
       "<table border=\"1\" class=\"dataframe\">\n",
       "  <thead>\n",
       "    <tr style=\"text-align: right;\">\n",
       "      <th></th>\n",
       "      <th>lyrics_sentiment</th>\n",
       "    </tr>\n",
       "    <tr>\n",
       "      <th>group</th>\n",
       "      <th></th>\n",
       "    </tr>\n",
       "  </thead>\n",
       "  <tbody>\n",
       "    <tr>\n",
       "      <th>Roupa Nova</th>\n",
       "      <td>0.208037</td>\n",
       "    </tr>\n",
       "    <tr>\n",
       "      <th>Los Hermanos</th>\n",
       "      <td>0.159326</td>\n",
       "    </tr>\n",
       "    <tr>\n",
       "      <th>Charlie Brown Jr.</th>\n",
       "      <td>0.145556</td>\n",
       "    </tr>\n",
       "    <tr>\n",
       "      <th>Novos Baianos</th>\n",
       "      <td>0.140206</td>\n",
       "    </tr>\n",
       "    <tr>\n",
       "      <th>Skank</th>\n",
       "      <td>0.133172</td>\n",
       "    </tr>\n",
       "    <tr>\n",
       "      <th>Kid Abelha</th>\n",
       "      <td>0.131304</td>\n",
       "    </tr>\n",
       "    <tr>\n",
       "      <th>Rita Lee</th>\n",
       "      <td>0.120616</td>\n",
       "    </tr>\n",
       "    <tr>\n",
       "      <th>Os Paralamas do Sucesso</th>\n",
       "      <td>0.116583</td>\n",
       "    </tr>\n",
       "    <tr>\n",
       "      <th>Barão Vermelho</th>\n",
       "      <td>0.115110</td>\n",
       "    </tr>\n",
       "    <tr>\n",
       "      <th>O Rappa</th>\n",
       "      <td>0.110228</td>\n",
       "    </tr>\n",
       "    <tr>\n",
       "      <th>Legião Urbana</th>\n",
       "      <td>0.098295</td>\n",
       "    </tr>\n",
       "    <tr>\n",
       "      <th>Os Mutantes</th>\n",
       "      <td>0.094842</td>\n",
       "    </tr>\n",
       "    <tr>\n",
       "      <th>Pitty</th>\n",
       "      <td>0.083358</td>\n",
       "    </tr>\n",
       "    <tr>\n",
       "      <th>Engenheiros do Hawaii</th>\n",
       "      <td>0.068620</td>\n",
       "    </tr>\n",
       "    <tr>\n",
       "      <th>Raimundos</th>\n",
       "      <td>0.054447</td>\n",
       "    </tr>\n",
       "    <tr>\n",
       "      <th>Capital Inicial</th>\n",
       "      <td>0.051736</td>\n",
       "    </tr>\n",
       "    <tr>\n",
       "      <th>Mamonas Assassinas</th>\n",
       "      <td>0.050877</td>\n",
       "    </tr>\n",
       "    <tr>\n",
       "      <th>Titãs</th>\n",
       "      <td>0.042454</td>\n",
       "    </tr>\n",
       "    <tr>\n",
       "      <th>Angra</th>\n",
       "      <td>0.020587</td>\n",
       "    </tr>\n",
       "    <tr>\n",
       "      <th>Matanza</th>\n",
       "      <td>0.000871</td>\n",
       "    </tr>\n",
       "  </tbody>\n",
       "</table>\n",
       "</div>"
      ],
      "text/plain": [
       "                         lyrics_sentiment\n",
       "group                                    \n",
       "Roupa Nova                       0.208037\n",
       "Los Hermanos                     0.159326\n",
       "Charlie Brown Jr.                0.145556\n",
       "Novos Baianos                    0.140206\n",
       "Skank                            0.133172\n",
       "Kid Abelha                       0.131304\n",
       "Rita Lee                         0.120616\n",
       "Os Paralamas do Sucesso          0.116583\n",
       "Barão Vermelho                   0.115110\n",
       "O Rappa                          0.110228\n",
       "Legião Urbana                    0.098295\n",
       "Os Mutantes                      0.094842\n",
       "Pitty                            0.083358\n",
       "Engenheiros do Hawaii            0.068620\n",
       "Raimundos                        0.054447\n",
       "Capital Inicial                  0.051736\n",
       "Mamonas Assassinas               0.050877\n",
       "Titãs                            0.042454\n",
       "Angra                            0.020587\n",
       "Matanza                          0.000871"
      ]
     },
     "execution_count": 29,
     "metadata": {},
     "output_type": "execute_result"
    }
   ],
   "source": [
    "sentiment_group"
   ]
  },
  {
   "cell_type": "code",
   "execution_count": 33,
   "metadata": {},
   "outputs": [
    {
     "data": {
      "image/png": "[encoded data removed]",
      "text/plain": [
       "<Figure size 1080x1080 with 1 Axes>"
      ]
     },
     "metadata": {},
     "output_type": "display_data"
    }
   ],
   "source": [
    "plt.figure(figsize=(15,15))\n",
    "ax = sns.boxplot(x=\"lyrics_sentiment\", y=\"group\", data=lyrics_lang_normalized_tokenized, orient = 'h')\n",
    "plt.savefig(os.path.abspath(os.path.join('..', 'img','sentiment_artists.jpg')))"
   ]
  },
  {
   "cell_type": "code",
   "execution_count": 35,
   "metadata": {},
   "outputs": [
    {
     "data": {
      "text/html": [
       "<div>\n",
       "<style scoped>\n",
       "    .dataframe tbody tr th:only-of-type {\n",
       "        vertical-align: middle;\n",
       "    }\n",
       "\n",
       "    .dataframe tbody tr th {\n",
       "        vertical-align: top;\n",
       "    }\n",
       "\n",
       "    .dataframe thead th {\n",
       "        text-align: right;\n",
       "    }\n",
       "</style>\n",
       "<table border=\"1\" class=\"dataframe\">\n",
       "  <thead>\n",
       "    <tr style=\"text-align: right;\">\n",
       "      <th></th>\n",
       "      <th>group</th>\n",
       "      <th>lyrics_title</th>\n",
       "      <th>lyrics_text</th>\n",
       "      <th>lang</th>\n",
       "      <th>lyrics_text_normalized</th>\n",
       "      <th>is_instrumental</th>\n",
       "      <th>lyrics_text_normalized_en</th>\n",
       "      <th>lyrics_text_normalized_pt</th>\n",
       "      <th>lyrics_text_normalized_tokenized_pt</th>\n",
       "      <th>count_tokens</th>\n",
       "      <th>lyrics_sentiment</th>\n",
       "      <th>lyrics_sentiment_vader_pos</th>\n",
       "      <th>lyrics_sentiment_vader_neg</th>\n",
       "      <th>lyrics_sentiment_vader_neu</th>\n",
       "    </tr>\n",
       "  </thead>\n",
       "  <tbody>\n",
       "    <tr>\n",
       "      <th>2780</th>\n",
       "      <td>Rita Lee</td>\n",
       "      <td>Tapupukitipa</td>\n",
       "      <td>Yeah! Yeah! Yeah! Tapu pukitipa! Yeah! Yeah! ...</td>\n",
       "      <td>en</td>\n",
       "      <td>yeah! yeah! yeah! tapu pukitipa! yeah! yeah! ...</td>\n",
       "      <td>False</td>\n",
       "      <td>yeah! yeah! yeah! tapu pukitipa! yeah! yeah! y...</td>\n",
       "      <td>sim! sim! sim! tapu pukitipa! sim! sim! sim! t...</td>\n",
       "      <td>[sim, sim, sim, pukitipa, sim, sim, sim, pukit...</td>\n",
       "      <td>9</td>\n",
       "      <td>0.000000</td>\n",
       "      <td>0.742</td>\n",
       "      <td>0.000</td>\n",
       "      <td>0.258</td>\n",
       "    </tr>\n",
       "    <tr>\n",
       "      <th>3027</th>\n",
       "      <td>Os Mutantes</td>\n",
       "      <td>Tapupukitpa</td>\n",
       "      <td>Yeah! Yeah! Yeah! Tapu pukitipa! Yeah! Yeah! ...</td>\n",
       "      <td>en</td>\n",
       "      <td>yeah! yeah! yeah! tapu pukitipa! yeah! yeah! ...</td>\n",
       "      <td>False</td>\n",
       "      <td>yeah! yeah! yeah! tapu pukitipa! yeah! yeah! y...</td>\n",
       "      <td>sim! sim! sim! tapu pukitipa! sim! sim! sim! t...</td>\n",
       "      <td>[sim, sim, sim, pukitipa, sim, sim, sim, pukit...</td>\n",
       "      <td>9</td>\n",
       "      <td>0.000000</td>\n",
       "      <td>0.742</td>\n",
       "      <td>0.000</td>\n",
       "      <td>0.258</td>\n",
       "    </tr>\n",
       "    <tr>\n",
       "      <th>30</th>\n",
       "      <td>Legião Urbana</td>\n",
       "      <td>Conexão Amazônica</td>\n",
       "      <td>Estou cansado de ouvir falar Em Freud, Jung, ...</td>\n",
       "      <td>pt</td>\n",
       "      <td>estou cansado de ouvir falar em freud, jung, ...</td>\n",
       "      <td>False</td>\n",
       "      <td>I'm tired of hearing about freud, jung, engels...</td>\n",
       "      <td>estou cansado de ouvir falar em freud, jung, e...</td>\n",
       "      <td>[cansar, ouvir, falar, freud, jung, engels, ma...</td>\n",
       "      <td>63</td>\n",
       "      <td>-0.035417</td>\n",
       "      <td>0.673</td>\n",
       "      <td>0.041</td>\n",
       "      <td>0.286</td>\n",
       "    </tr>\n",
       "    <tr>\n",
       "      <th>2612</th>\n",
       "      <td>Rita Lee</td>\n",
       "      <td>Eu Vou Me Salvar</td>\n",
       "      <td>Eu vou me salvar, eu vou me salvar Eu vou me ...</td>\n",
       "      <td>pt</td>\n",
       "      <td>eu vou me salvar, eu vou me salvar eu vou me ...</td>\n",
       "      <td>False</td>\n",
       "      <td>I will save myself, I will save myself I will ...</td>\n",
       "      <td>eu vou me salvar, eu vou me salvar eu vou me s...</td>\n",
       "      <td>[ir, salvar, ir, salvar, ir, salvar, ir, salva...</td>\n",
       "      <td>36</td>\n",
       "      <td>0.000000</td>\n",
       "      <td>0.557</td>\n",
       "      <td>0.000</td>\n",
       "      <td>0.443</td>\n",
       "    </tr>\n",
       "    <tr>\n",
       "      <th>2016</th>\n",
       "      <td>Raimundos</td>\n",
       "      <td>I Wanna Be Well</td>\n",
       "      <td>Yeah, I wanna be well I wanna be well I wanna...</td>\n",
       "      <td>en</td>\n",
       "      <td>yeah, i wanna be well i wanna be well i wanna...</td>\n",
       "      <td>False</td>\n",
       "      <td>yeah, i wanna be well i wanna be well i wanna ...</td>\n",
       "      <td>sim, eu quero estar bem eu quero estar bem eu ...</td>\n",
       "      <td>[sim, querer, estar, bem, querer, estar, bem, ...</td>\n",
       "      <td>98</td>\n",
       "      <td>-0.500000</td>\n",
       "      <td>0.502</td>\n",
       "      <td>0.073</td>\n",
       "      <td>0.426</td>\n",
       "    </tr>\n",
       "    <tr>\n",
       "      <th>2759</th>\n",
       "      <td>Rita Lee</td>\n",
       "      <td>Reza</td>\n",
       "      <td>Deus me proteja da sua inveja Deus me defenda...</td>\n",
       "      <td>pt</td>\n",
       "      <td>deus me proteja da sua inveja deus me defenda...</td>\n",
       "      <td>False</td>\n",
       "      <td>god protect me from your envy god defend me fr...</td>\n",
       "      <td>deus me proteja da sua inveja deus me defenda ...</td>\n",
       "      <td>[deus, proteger, invejar, deus, defender, macu...</td>\n",
       "      <td>71</td>\n",
       "      <td>0.085714</td>\n",
       "      <td>0.489</td>\n",
       "      <td>0.081</td>\n",
       "      <td>0.430</td>\n",
       "    </tr>\n",
       "    <tr>\n",
       "      <th>2170</th>\n",
       "      <td>Os Paralamas do Sucesso</td>\n",
       "      <td>I Feel Good (I Got You/Sossego)</td>\n",
       "      <td>I feel good I knew that I would now I feel go...</td>\n",
       "      <td>pt</td>\n",
       "      <td>i feel good i knew that i would now i feel go...</td>\n",
       "      <td>False</td>\n",
       "      <td>i feel good i knew that i would now i feel goo...</td>\n",
       "      <td>i feel good i knew that i would now i feel go...</td>\n",
       "      <td>[-vitória, régio, bolar, papar, empregar, uuu,...</td>\n",
       "      <td>20</td>\n",
       "      <td>0.668750</td>\n",
       "      <td>0.485</td>\n",
       "      <td>0.000</td>\n",
       "      <td>0.515</td>\n",
       "    </tr>\n",
       "    <tr>\n",
       "      <th>2773</th>\n",
       "      <td>Rita Lee</td>\n",
       "      <td>Sou Fiel</td>\n",
       "      <td>Sou Fiel  Sou fiel de coração  Sou fiel a uma...</td>\n",
       "      <td>pt</td>\n",
       "      <td>sou fiel  sou fiel de coração  sou fiel a uma...</td>\n",
       "      <td>False</td>\n",
       "      <td>I am faithful I am faithful at heart I am fait...</td>\n",
       "      <td>sou fiel  sou fiel de coração  sou fiel a uma ...</td>\n",
       "      <td>[fiel, fiel, coração, fiel, paixão, fiel, graç...</td>\n",
       "      <td>70</td>\n",
       "      <td>0.233333</td>\n",
       "      <td>0.483</td>\n",
       "      <td>0.000</td>\n",
       "      <td>0.517</td>\n",
       "    </tr>\n",
       "    <tr>\n",
       "      <th>2970</th>\n",
       "      <td>Os Mutantes</td>\n",
       "      <td>Eu Só Penso Em Te Ajudar</td>\n",
       "      <td>Estão dizendo que é pra competir  Mas eu só p...</td>\n",
       "      <td>pt</td>\n",
       "      <td>estão dizendo que é para competir  mas eu só ...</td>\n",
       "      <td>False</td>\n",
       "      <td>they are saying it is to compete but I only th...</td>\n",
       "      <td>estão dizendo que é para competir  mas eu só p...</td>\n",
       "      <td>[dizer, competir, pensar, ajudar, querer, vida...</td>\n",
       "      <td>34</td>\n",
       "      <td>0.482143</td>\n",
       "      <td>0.471</td>\n",
       "      <td>0.020</td>\n",
       "      <td>0.509</td>\n",
       "    </tr>\n",
       "    <tr>\n",
       "      <th>2530</th>\n",
       "      <td>Rita Lee</td>\n",
       "      <td>Benvinda</td>\n",
       "      <td>Benvinda Eu estou em paz Você demorou Por ond...</td>\n",
       "      <td>pt</td>\n",
       "      <td>benvinda eu estou em paz você demorou por ond...</td>\n",
       "      <td>False</td>\n",
       "      <td>welcome i'm at peace did you take where you be...</td>\n",
       "      <td>benvinda eu estou em paz você demorou por onde...</td>\n",
       "      <td>[benvinda, paz, demorar, onde, andar, ficar, c...</td>\n",
       "      <td>20</td>\n",
       "      <td>0.756250</td>\n",
       "      <td>0.462</td>\n",
       "      <td>0.091</td>\n",
       "      <td>0.447</td>\n",
       "    </tr>\n",
       "  </tbody>\n",
       "</table>\n",
       "</div>"
      ],
      "text/plain": [
       "                        group                     lyrics_title  \\\n",
       "2780                 Rita Lee                     Tapupukitipa   \n",
       "3027              Os Mutantes                      Tapupukitpa   \n",
       "30              Legião Urbana                Conexão Amazônica   \n",
       "2612                 Rita Lee                 Eu Vou Me Salvar   \n",
       "2016                Raimundos                  I Wanna Be Well   \n",
       "2759                 Rita Lee                             Reza   \n",
       "2170  Os Paralamas do Sucesso  I Feel Good (I Got You/Sossego)   \n",
       "2773                 Rita Lee                         Sou Fiel   \n",
       "2970              Os Mutantes         Eu Só Penso Em Te Ajudar   \n",
       "2530                 Rita Lee                         Benvinda   \n",
       "\n",
       "                                            lyrics_text lang  \\\n",
       "2780   Yeah! Yeah! Yeah! Tapu pukitipa! Yeah! Yeah! ...   en   \n",
       "3027   Yeah! Yeah! Yeah! Tapu pukitipa! Yeah! Yeah! ...   en   \n",
       "30     Estou cansado de ouvir falar Em Freud, Jung, ...   pt   \n",
       "2612   Eu vou me salvar, eu vou me salvar Eu vou me ...   pt   \n",
       "2016   Yeah, I wanna be well I wanna be well I wanna...   en   \n",
       "2759   Deus me proteja da sua inveja Deus me defenda...   pt   \n",
       "2170   I feel good I knew that I would now I feel go...   pt   \n",
       "2773   Sou Fiel  Sou fiel de coração  Sou fiel a uma...   pt   \n",
       "2970   Estão dizendo que é pra competir  Mas eu só p...   pt   \n",
       "2530   Benvinda Eu estou em paz Você demorou Por ond...   pt   \n",
       "\n",
       "                                 lyrics_text_normalized  is_instrumental  \\\n",
       "2780   yeah! yeah! yeah! tapu pukitipa! yeah! yeah! ...            False   \n",
       "3027   yeah! yeah! yeah! tapu pukitipa! yeah! yeah! ...            False   \n",
       "30     estou cansado de ouvir falar em freud, jung, ...            False   \n",
       "2612   eu vou me salvar, eu vou me salvar eu vou me ...            False   \n",
       "2016   yeah, i wanna be well i wanna be well i wanna...            False   \n",
       "2759   deus me proteja da sua inveja deus me defenda...            False   \n",
       "2170   i feel good i knew that i would now i feel go...            False   \n",
       "2773   sou fiel  sou fiel de coração  sou fiel a uma...            False   \n",
       "2970   estão dizendo que é para competir  mas eu só ...            False   \n",
       "2530   benvinda eu estou em paz você demorou por ond...            False   \n",
       "\n",
       "                              lyrics_text_normalized_en  \\\n",
       "2780  yeah! yeah! yeah! tapu pukitipa! yeah! yeah! y...   \n",
       "3027  yeah! yeah! yeah! tapu pukitipa! yeah! yeah! y...   \n",
       "30    I'm tired of hearing about freud, jung, engels...   \n",
       "2612  I will save myself, I will save myself I will ...   \n",
       "2016  yeah, i wanna be well i wanna be well i wanna ...   \n",
       "2759  god protect me from your envy god defend me fr...   \n",
       "2170  i feel good i knew that i would now i feel goo...   \n",
       "2773  I am faithful I am faithful at heart I am fait...   \n",
       "2970  they are saying it is to compete but I only th...   \n",
       "2530  welcome i'm at peace did you take where you be...   \n",
       "\n",
       "                              lyrics_text_normalized_pt  \\\n",
       "2780  sim! sim! sim! tapu pukitipa! sim! sim! sim! t...   \n",
       "3027  sim! sim! sim! tapu pukitipa! sim! sim! sim! t...   \n",
       "30    estou cansado de ouvir falar em freud, jung, e...   \n",
       "2612  eu vou me salvar, eu vou me salvar eu vou me s...   \n",
       "2016  sim, eu quero estar bem eu quero estar bem eu ...   \n",
       "2759  deus me proteja da sua inveja deus me defenda ...   \n",
       "2170   i feel good i knew that i would now i feel go...   \n",
       "2773  sou fiel  sou fiel de coração  sou fiel a uma ...   \n",
       "2970  estão dizendo que é para competir  mas eu só p...   \n",
       "2530  benvinda eu estou em paz você demorou por onde...   \n",
       "\n",
       "                    lyrics_text_normalized_tokenized_pt  count_tokens  \\\n",
       "2780  [sim, sim, sim, pukitipa, sim, sim, sim, pukit...             9   \n",
       "3027  [sim, sim, sim, pukitipa, sim, sim, sim, pukit...             9   \n",
       "30    [cansar, ouvir, falar, freud, jung, engels, ma...            63   \n",
       "2612  [ir, salvar, ir, salvar, ir, salvar, ir, salva...            36   \n",
       "2016  [sim, querer, estar, bem, querer, estar, bem, ...            98   \n",
       "2759  [deus, proteger, invejar, deus, defender, macu...            71   \n",
       "2170  [-vitória, régio, bolar, papar, empregar, uuu,...            20   \n",
       "2773  [fiel, fiel, coração, fiel, paixão, fiel, graç...            70   \n",
       "2970  [dizer, competir, pensar, ajudar, querer, vida...            34   \n",
       "2530  [benvinda, paz, demorar, onde, andar, ficar, c...            20   \n",
       "\n",
       "      lyrics_sentiment  lyrics_sentiment_vader_pos  \\\n",
       "2780          0.000000                       0.742   \n",
       "3027          0.000000                       0.742   \n",
       "30           -0.035417                       0.673   \n",
       "2612          0.000000                       0.557   \n",
       "2016         -0.500000                       0.502   \n",
       "2759          0.085714                       0.489   \n",
       "2170          0.668750                       0.485   \n",
       "2773          0.233333                       0.483   \n",
       "2970          0.482143                       0.471   \n",
       "2530          0.756250                       0.462   \n",
       "\n",
       "      lyrics_sentiment_vader_neg  lyrics_sentiment_vader_neu  \n",
       "2780                       0.000                       0.258  \n",
       "3027                       0.000                       0.258  \n",
       "30                         0.041                       0.286  \n",
       "2612                       0.000                       0.443  \n",
       "2016                       0.073                       0.426  \n",
       "2759                       0.081                       0.430  \n",
       "2170                       0.000                       0.515  \n",
       "2773                       0.000                       0.517  \n",
       "2970                       0.020                       0.509  \n",
       "2530                       0.091                       0.447  "
      ]
     },
     "execution_count": 35,
     "metadata": {},
     "output_type": "execute_result"
    }
   ],
   "source": [
    "lyrics_lang_normalized_tokenized.nlargest(columns = 'lyrics_sentiment_vader_pos',n= 10)"
   ]
  },
  {
   "cell_type": "code",
   "execution_count": 54,
   "metadata": {},
   "outputs": [
    {
     "name": "stdout",
     "output_type": "stream",
     "text": [
      "[[\"sou um ninho no estranho mundo perigoso, insano nexo, yogas e roquebrou nunca a vida se mostrou assim tão cruela cruel, cruela cruel sou madre de calcutá tentando salvar o planeta às vezes destruo o universo com o garbo de uma greta viúva negra de maquiavel maquiavel, maquiavel... cruela cruel, cruela cruela... it's heaven in hell os inimigos ocultos se mostram incompetentes tédio, anfa e paranóia sempre achei no amor a glória mais cruela cruel cruela cruel terra telepática lunática, anos-luz sem ídolos, heróis, profetas, gurus só a sombra de uma bomba, bruxa má medusa jezebel jezebel, jezebel... cruela cruel, cruela cruela cruela cruel, cruela cruela cruela cruel it's heaven in hell!\"]]\n"
     ]
    }
   ],
   "source": [
    "print(lyrics_lang_normalized_tokenized.loc[lyrics_lang_normalized_tokenized['lyrics_title']=='Cruela Cruel', ['lyrics_text_normalized_pt']].values)"
   ]
  },
  {
   "cell_type": "code",
   "execution_count": 37,
   "metadata": {},
   "outputs": [
    {
     "data": {
      "text/html": [
       "<div>\n",
       "<style scoped>\n",
       "    .dataframe tbody tr th:only-of-type {\n",
       "        vertical-align: middle;\n",
       "    }\n",
       "\n",
       "    .dataframe tbody tr th {\n",
       "        vertical-align: top;\n",
       "    }\n",
       "\n",
       "    .dataframe thead th {\n",
       "        text-align: right;\n",
       "    }\n",
       "</style>\n",
       "<table border=\"1\" class=\"dataframe\">\n",
       "  <thead>\n",
       "    <tr style=\"text-align: right;\">\n",
       "      <th></th>\n",
       "      <th>group</th>\n",
       "      <th>lyrics_title</th>\n",
       "      <th>lyrics_text</th>\n",
       "      <th>lang</th>\n",
       "      <th>lyrics_text_normalized</th>\n",
       "      <th>is_instrumental</th>\n",
       "      <th>lyrics_text_normalized_en</th>\n",
       "      <th>lyrics_text_normalized_pt</th>\n",
       "      <th>lyrics_text_normalized_tokenized_pt</th>\n",
       "      <th>count_tokens</th>\n",
       "      <th>lyrics_sentiment</th>\n",
       "      <th>lyrics_sentiment_vader_pos</th>\n",
       "      <th>lyrics_sentiment_vader_neg</th>\n",
       "      <th>lyrics_sentiment_vader_neu</th>\n",
       "    </tr>\n",
       "  </thead>\n",
       "  <tbody>\n",
       "    <tr>\n",
       "      <th>2567</th>\n",
       "      <td>Rita Lee</td>\n",
       "      <td>Cruela Cruel</td>\n",
       "      <td>Sou um ninho no estranho Mundo perigoso, insa...</td>\n",
       "      <td>pt</td>\n",
       "      <td>sou um ninho no estranho mundo perigoso, insa...</td>\n",
       "      <td>False</td>\n",
       "      <td>I am a nest in the strange dangerous world, in...</td>\n",
       "      <td>sou um ninho no estranho mundo perigoso, insan...</td>\n",
       "      <td>[ninhar, estranhar, mundo, perigoso, insano, n...</td>\n",
       "      <td>69</td>\n",
       "      <td>-0.704301</td>\n",
       "      <td>0.062</td>\n",
       "      <td>0.634</td>\n",
       "      <td>0.304</td>\n",
       "    </tr>\n",
       "    <tr>\n",
       "      <th>1934</th>\n",
       "      <td>Titãs</td>\n",
       "      <td>Tô Cansado</td>\n",
       "      <td>Tô cansado Tô cansado de tudo Tô cansado do m...</td>\n",
       "      <td>pt</td>\n",
       "      <td>tô cansado tô cansado de tudo tô cansado do m...</td>\n",
       "      <td>False</td>\n",
       "      <td>I'm tired I'm tired of everything I'm tired of...</td>\n",
       "      <td>tô cansado tô cansado de tudo tô cansado do me...</td>\n",
       "      <td>[tô, cansar, tô, cansar, tudo, tô, cansar, cab...</td>\n",
       "      <td>77</td>\n",
       "      <td>-0.370759</td>\n",
       "      <td>0.000</td>\n",
       "      <td>0.598</td>\n",
       "      <td>0.402</td>\n",
       "    </tr>\n",
       "    <tr>\n",
       "      <th>2013</th>\n",
       "      <td>Raimundos</td>\n",
       "      <td>I Don't Care</td>\n",
       "      <td>I don't care I don't care I don't care about ...</td>\n",
       "      <td>en</td>\n",
       "      <td>i don't care i don't care i don't care about ...</td>\n",
       "      <td>False</td>\n",
       "      <td>i don't care i don't care i don't care about t...</td>\n",
       "      <td>Eu não ligo, eu não ligo, eu não ligo para est...</td>\n",
       "      <td>[Eu, ligar, ligar, ligar, mundo, ligar, garoto...</td>\n",
       "      <td>30</td>\n",
       "      <td>0.000000</td>\n",
       "      <td>0.000</td>\n",
       "      <td>0.586</td>\n",
       "      <td>0.414</td>\n",
       "    </tr>\n",
       "    <tr>\n",
       "      <th>1890</th>\n",
       "      <td>Titãs</td>\n",
       "      <td>Planeta Morto</td>\n",
       "      <td>Era um planeta fértil Tinha as maiores frutas...</td>\n",
       "      <td>pt</td>\n",
       "      <td>era um planeta fértil tinha as maiores frutas...</td>\n",
       "      <td>False</td>\n",
       "      <td>it was a fertile planet had the biggest fruits...</td>\n",
       "      <td>era um planeta fértil tinha as maiores frutas ...</td>\n",
       "      <td>[fértil, maior, frutar, cheio, homem, forte, p...</td>\n",
       "      <td>71</td>\n",
       "      <td>-0.157619</td>\n",
       "      <td>0.052</td>\n",
       "      <td>0.501</td>\n",
       "      <td>0.447</td>\n",
       "    </tr>\n",
       "    <tr>\n",
       "      <th>1846</th>\n",
       "      <td>Titãs</td>\n",
       "      <td>Medo</td>\n",
       "      <td>Precisa perder o medo do sexo  Precisa perder...</td>\n",
       "      <td>pt</td>\n",
       "      <td>precisa perder o medo do sexo  precisa perder...</td>\n",
       "      <td>False</td>\n",
       "      <td>you need to lose your fear of sex you need to ...</td>\n",
       "      <td>precisa perder o medo do sexo  precisa perder ...</td>\n",
       "      <td>[preciso, perder, medo, sexo, preciso, perder,...</td>\n",
       "      <td>80</td>\n",
       "      <td>0.000000</td>\n",
       "      <td>0.000</td>\n",
       "      <td>0.497</td>\n",
       "      <td>0.503</td>\n",
       "    </tr>\n",
       "    <tr>\n",
       "      <th>3048</th>\n",
       "      <td>Matanza</td>\n",
       "      <td>Alabama Death Tenebris</td>\n",
       "      <td>Alabama grindcore Holy noise - death tenebris...</td>\n",
       "      <td>en</td>\n",
       "      <td>alabama grindcore holy noise - death tenebris...</td>\n",
       "      <td>False</td>\n",
       "      <td>alabama grindcore holy noise - death tenebris ...</td>\n",
       "      <td>Alabama Grindcore Santo barulho - morte Tenebr...</td>\n",
       "      <td>[Grindcore, barulhar, morte, Tenebris, conspir...</td>\n",
       "      <td>29</td>\n",
       "      <td>-0.435732</td>\n",
       "      <td>0.000</td>\n",
       "      <td>0.478</td>\n",
       "      <td>0.522</td>\n",
       "    </tr>\n",
       "    <tr>\n",
       "      <th>149</th>\n",
       "      <td>Charlie Brown Jr.</td>\n",
       "      <td>Ai, Ai, Ai (Estúdio Coca-cola)</td>\n",
       "      <td>Tchunanananã! Ná Nã Nã! Ná Nã Nã! Ná Nã Nã! T...</td>\n",
       "      <td>pt</td>\n",
       "      <td>tchunanananã! ná nã nã! ná nã nã! ná nã nã! t...</td>\n",
       "      <td>False</td>\n",
       "      <td>tchunanananã! no no no! no no no! no no no! tc...</td>\n",
       "      <td>tchunanananã! ná nã nã! ná nã nã! ná nã nã! tc...</td>\n",
       "      <td>[tchunanananã, ná, nã, nã, ná, nã, nã, ná, nã,...</td>\n",
       "      <td>210</td>\n",
       "      <td>0.410623</td>\n",
       "      <td>0.088</td>\n",
       "      <td>0.459</td>\n",
       "      <td>0.453</td>\n",
       "    </tr>\n",
       "    <tr>\n",
       "      <th>2012</th>\n",
       "      <td>Raimundos</td>\n",
       "      <td>Hooligans</td>\n",
       "      <td>hooligans are made to destroy hooligans are b...</td>\n",
       "      <td>en</td>\n",
       "      <td>hooligans are made to destroy hooligans are b...</td>\n",
       "      <td>False</td>\n",
       "      <td>hooligans are made to destroy hooligans are bo...</td>\n",
       "      <td>hooligans são feitos para destruir hooligans n...</td>\n",
       "      <td>[hooligan, feito, destruir, hooligan, nascer, ...</td>\n",
       "      <td>36</td>\n",
       "      <td>-0.050000</td>\n",
       "      <td>0.112</td>\n",
       "      <td>0.455</td>\n",
       "      <td>0.433</td>\n",
       "    </tr>\n",
       "    <tr>\n",
       "      <th>527</th>\n",
       "      <td>Engenheiros do Hawaii</td>\n",
       "      <td>Revelação</td>\n",
       "      <td>Um dia vestido De saudade viva Faz ressucitar...</td>\n",
       "      <td>pt</td>\n",
       "      <td>um dia vestido de saudade viva faz ressucitar...</td>\n",
       "      <td>False</td>\n",
       "      <td>one day dressed with homesickness, he resurrec...</td>\n",
       "      <td>um dia vestido de saudade viva faz ressucitar ...</td>\n",
       "      <td>[dia, vestir, saudade, fazer, ressucitar, casa...</td>\n",
       "      <td>37</td>\n",
       "      <td>-0.228571</td>\n",
       "      <td>0.072</td>\n",
       "      <td>0.447</td>\n",
       "      <td>0.481</td>\n",
       "    </tr>\n",
       "    <tr>\n",
       "      <th>2506</th>\n",
       "      <td>Rita Lee</td>\n",
       "      <td>As Loucas</td>\n",
       "      <td>Eles amam as loucas Mas se casam com outras E...</td>\n",
       "      <td>pt</td>\n",
       "      <td>eles amam as loucas mas se casam com outras e...</td>\n",
       "      <td>False</td>\n",
       "      <td>they love the crazy but they marry others they...</td>\n",
       "      <td>eles amam as loucas mas se casam com outras el...</td>\n",
       "      <td>[amar, louco, casar, outro, amar, louco, casar...</td>\n",
       "      <td>78</td>\n",
       "      <td>-0.310326</td>\n",
       "      <td>0.239</td>\n",
       "      <td>0.447</td>\n",
       "      <td>0.314</td>\n",
       "    </tr>\n",
       "  </tbody>\n",
       "</table>\n",
       "</div>"
      ],
      "text/plain": [
       "                      group                    lyrics_title  \\\n",
       "2567               Rita Lee                    Cruela Cruel   \n",
       "1934                  Titãs                      Tô Cansado   \n",
       "2013              Raimundos                    I Don't Care   \n",
       "1890                  Titãs                   Planeta Morto   \n",
       "1846                  Titãs                            Medo   \n",
       "3048                Matanza          Alabama Death Tenebris   \n",
       "149       Charlie Brown Jr.  Ai, Ai, Ai (Estúdio Coca-cola)   \n",
       "2012              Raimundos                       Hooligans   \n",
       "527   Engenheiros do Hawaii                       Revelação   \n",
       "2506               Rita Lee                       As Loucas   \n",
       "\n",
       "                                            lyrics_text lang  \\\n",
       "2567   Sou um ninho no estranho Mundo perigoso, insa...   pt   \n",
       "1934   Tô cansado Tô cansado de tudo Tô cansado do m...   pt   \n",
       "2013   I don't care I don't care I don't care about ...   en   \n",
       "1890   Era um planeta fértil Tinha as maiores frutas...   pt   \n",
       "1846   Precisa perder o medo do sexo  Precisa perder...   pt   \n",
       "3048   Alabama grindcore Holy noise - death tenebris...   en   \n",
       "149    Tchunanananã! Ná Nã Nã! Ná Nã Nã! Ná Nã Nã! T...   pt   \n",
       "2012   hooligans are made to destroy hooligans are b...   en   \n",
       "527    Um dia vestido De saudade viva Faz ressucitar...   pt   \n",
       "2506   Eles amam as loucas Mas se casam com outras E...   pt   \n",
       "\n",
       "                                 lyrics_text_normalized  is_instrumental  \\\n",
       "2567   sou um ninho no estranho mundo perigoso, insa...            False   \n",
       "1934   tô cansado tô cansado de tudo tô cansado do m...            False   \n",
       "2013   i don't care i don't care i don't care about ...            False   \n",
       "1890   era um planeta fértil tinha as maiores frutas...            False   \n",
       "1846   precisa perder o medo do sexo  precisa perder...            False   \n",
       "3048   alabama grindcore holy noise - death tenebris...            False   \n",
       "149    tchunanananã! ná nã nã! ná nã nã! ná nã nã! t...            False   \n",
       "2012   hooligans are made to destroy hooligans are b...            False   \n",
       "527    um dia vestido de saudade viva faz ressucitar...            False   \n",
       "2506   eles amam as loucas mas se casam com outras e...            False   \n",
       "\n",
       "                              lyrics_text_normalized_en  \\\n",
       "2567  I am a nest in the strange dangerous world, in...   \n",
       "1934  I'm tired I'm tired of everything I'm tired of...   \n",
       "2013  i don't care i don't care i don't care about t...   \n",
       "1890  it was a fertile planet had the biggest fruits...   \n",
       "1846  you need to lose your fear of sex you need to ...   \n",
       "3048  alabama grindcore holy noise - death tenebris ...   \n",
       "149   tchunanananã! no no no! no no no! no no no! tc...   \n",
       "2012  hooligans are made to destroy hooligans are bo...   \n",
       "527   one day dressed with homesickness, he resurrec...   \n",
       "2506  they love the crazy but they marry others they...   \n",
       "\n",
       "                              lyrics_text_normalized_pt  \\\n",
       "2567  sou um ninho no estranho mundo perigoso, insan...   \n",
       "1934  tô cansado tô cansado de tudo tô cansado do me...   \n",
       "2013  Eu não ligo, eu não ligo, eu não ligo para est...   \n",
       "1890  era um planeta fértil tinha as maiores frutas ...   \n",
       "1846  precisa perder o medo do sexo  precisa perder ...   \n",
       "3048  Alabama Grindcore Santo barulho - morte Tenebr...   \n",
       "149   tchunanananã! ná nã nã! ná nã nã! ná nã nã! tc...   \n",
       "2012  hooligans são feitos para destruir hooligans n...   \n",
       "527   um dia vestido de saudade viva faz ressucitar ...   \n",
       "2506  eles amam as loucas mas se casam com outras el...   \n",
       "\n",
       "                    lyrics_text_normalized_tokenized_pt  count_tokens  \\\n",
       "2567  [ninhar, estranhar, mundo, perigoso, insano, n...            69   \n",
       "1934  [tô, cansar, tô, cansar, tudo, tô, cansar, cab...            77   \n",
       "2013  [Eu, ligar, ligar, ligar, mundo, ligar, garoto...            30   \n",
       "1890  [fértil, maior, frutar, cheio, homem, forte, p...            71   \n",
       "1846  [preciso, perder, medo, sexo, preciso, perder,...            80   \n",
       "3048  [Grindcore, barulhar, morte, Tenebris, conspir...            29   \n",
       "149   [tchunanananã, ná, nã, nã, ná, nã, nã, ná, nã,...           210   \n",
       "2012  [hooligan, feito, destruir, hooligan, nascer, ...            36   \n",
       "527   [dia, vestir, saudade, fazer, ressucitar, casa...            37   \n",
       "2506  [amar, louco, casar, outro, amar, louco, casar...            78   \n",
       "\n",
       "      lyrics_sentiment  lyrics_sentiment_vader_pos  \\\n",
       "2567         -0.704301                       0.062   \n",
       "1934         -0.370759                       0.000   \n",
       "2013          0.000000                       0.000   \n",
       "1890         -0.157619                       0.052   \n",
       "1846          0.000000                       0.000   \n",
       "3048         -0.435732                       0.000   \n",
       "149           0.410623                       0.088   \n",
       "2012         -0.050000                       0.112   \n",
       "527          -0.228571                       0.072   \n",
       "2506         -0.310326                       0.239   \n",
       "\n",
       "      lyrics_sentiment_vader_neg  lyrics_sentiment_vader_neu  \n",
       "2567                       0.634                       0.304  \n",
       "1934                       0.598                       0.402  \n",
       "2013                       0.586                       0.414  \n",
       "1890                       0.501                       0.447  \n",
       "1846                       0.497                       0.503  \n",
       "3048                       0.478                       0.522  \n",
       "149                        0.459                       0.453  \n",
       "2012                       0.455                       0.433  \n",
       "527                        0.447                       0.481  \n",
       "2506                       0.447                       0.314  "
      ]
     },
     "execution_count": 37,
     "metadata": {},
     "output_type": "execute_result"
    }
   ],
   "source": [
    "lyrics_lang_normalized_tokenized.nlargest(columns = 'lyrics_sentiment_vader_neg',n= 10)"
   ]
  },
  {
   "cell_type": "code",
   "execution_count": null,
   "metadata": {},
   "outputs": [],
   "source": []
  },
  {
   "cell_type": "code",
   "execution_count": 38,
   "metadata": {},
   "outputs": [],
   "source": [
    "df_topics = lyrics_lang_normalized_tokenized[lyrics_lang_normalized_tokenized['lang']=='pt']"
   ]
  },
  {
   "cell_type": "code",
   "execution_count": 39,
   "metadata": {},
   "outputs": [],
   "source": [
    "all_lyrics_list = list(df_topics['lyrics_text_normalized_tokenized_pt'])"
   ]
  },
  {
   "cell_type": "markdown",
   "metadata": {},
   "source": [
    "## 3.6 Tópicos"
   ]
  },
  {
   "cell_type": "code",
   "execution_count": 40,
   "metadata": {},
   "outputs": [],
   "source": [
    "# Build the bigram and trigram models\n",
    "bigram = gensim.models.Phrases(all_lyrics_list, min_count=5, threshold=100) # higher threshold fewer phrases.\n",
    "trigram = gensim.models.Phrases(bigram[all_lyrics_list], threshold=100)  \n",
    "\n",
    "# Faster way to get a sentence clubbed as a trigram/bigram\n",
    "bigram_mod = gensim.models.phrases.Phraser(bigram)\n",
    "trigram_mod = gensim.models.phrases.Phraser(trigram)\n"
   ]
  },
  {
   "cell_type": "code",
   "execution_count": 41,
   "metadata": {},
   "outputs": [],
   "source": [
    "\n",
    "def make_bigrams(texts):\n",
    "    return [bigram_mod[doc] for doc in texts]\n",
    "\n",
    "def make_trigrams(texts):\n",
    "    return [trigram_mod[bigram_mod[doc]] for doc in texts]\n"
   ]
  },
  {
   "cell_type": "code",
   "execution_count": 42,
   "metadata": {},
   "outputs": [],
   "source": [
    "lyrics_bigrams = make_bigrams(all_lyrics_list)\n"
   ]
  },
  {
   "cell_type": "code",
   "execution_count": 43,
   "metadata": {},
   "outputs": [],
   "source": [
    "id2word = corpora.Dictionary(lyrics_bigrams)\n",
    "\n",
    "# Term Document Frequency\n",
    "corpus = [id2word.doc2bow(text) for text in lyrics_bigrams]"
   ]
  },
  {
   "cell_type": "code",
   "execution_count": 50,
   "metadata": {},
   "outputs": [],
   "source": [
    "# Build LDA model\n",
    "lda_model = gensim.models.ldamodel.LdaModel(corpus=corpus,\n",
    "                                           id2word=id2word,\n",
    "                                           num_topics=4, \n",
    "                                           random_state=42,\n",
    "                                           update_every=1,\n",
    "                                           chunksize=100,\n",
    "                                           passes=50,\n",
    "                                           alpha='auto',\n",
    "                                           per_word_topics=True)"
   ]
  },
  {
   "cell_type": "code",
   "execution_count": 51,
   "metadata": {},
   "outputs": [
    {
     "data": {
      "text/html": [
       "\n",
       "<link rel=\"stylesheet\" type=\"text/css\" href=\"https://cdn.rawgit.com/bmabey/pyLDAvis/files/ldavis.v1.0.0.css\">\n",
       "\n",
       "\n",
       "<div id=\"ldavis_el3850252007636966789040009\"></div>\n",
       "<script type=\"text/javascript\">\n",
       "\n",
       "var ldavis_el3850252007636966789040009_data = {\"mdsDat\": {\"x\": [-0.3249407956214449, -0.0100891629168584, 0.12371030192722926, 0.21131965661107413], \"y\": [-0.09647963396824968, 0.27834979078854843, -0.11289760650550584, -0.06897255031479284], \"topics\": [1, 2, 3, 4], \"cluster\": [1, 1, 1, 1], \"Freq\": [70.6165542602539, 14.086034774780273, 10.493287086486816, 4.804123401641846]}, \"tinfo\": {\"Term\": [\"ir\", \"l\\u00e1\", \"querer\", \"dar\", \"t\\u00e1\", \"fazer\", \"c\\u00e9u\", \"mulher\", \"dizer\", \"tudo\", \"poder\", \"saber\", \"gostar\", \"terra\", \"dia\", \"caro\", \"luzir\", \"ver\", \"medo\", \"menino\", \"vir\", \"p\\u00e9\", \"bocar\", \"ruir\", \"\\u00e1gua\", \"vidar\", \"deixar\", \"lua\", \"bem\", \"aqui\", \"ir\", \"querer\", \"fazer\", \"dizer\", \"tudo\", \"poder\", \"saber\", \"dia\", \"vidar\", \"deixar\", \"bem\", \"nado\", \"mundo\", \"ficar\", \"assim\", \"sempre\", \"pensar\", \"gente\", \"outro\", \"onde\", \"ningu\\u00e9m\", \"t\\u00e3o\", \"tanto\", \"passar\", \"sentir\", \"cora\\u00e7\\u00e3o\", \"nunca\", \"coisa\", \"hoje\", \"lugar\", \"ver\", \"todo\", \"vir\", \"aqui\", \"olhar\", \"dar\", \"terra\", \"\\u00e1gua\", \"m\\u00e3e\", \"azul\", \"carnaval\", \"pedrar\", \"branco\", \"sombra\", \"jardim\", \"sexo\", \"sete\", \"flor\", \"sentar\", \"cruzar\", \"molhar\", \"pol\\u00edcia\", \"luar\", \"quatro\", \"frutar\", \"pintar\", \"pr\\u00edncipe\", \"pobre\", \"nu\", \"confus\\u00e3o\", \"barco\", \"sul\", \"colar\", \"pingar\", \"preto\", \"eis\", \"multid\\u00e3o\", \"c\\u00e9u\", \"lua\", \"anjo\", \"p\\u00e9\", \"ch\\u00e3o\", \"ali\", \"carro\", \"menino\", \"dan\\u00e7ar\", \"ruir\", \"luzir\", \"medo\", \"t\\u00f4\", \"virar\", \"brasil\", \"chuva\", \"m\\u00e3o\", \"cair\", \"dentro\", \"noite\", \"vir\", \"preciso\", \"ver\", \"andar\", \"cansar\", \"\\u00f4\", \"jo\\u00e3o\", \"bichar\", \"foder\", \"comer\", \"\\u00f3i\", \"danar\", \"baiano\", \"caminh\\u00e3o\", \"'s\", \"gar\\u00e7om\", \"fumar\", \"sujar\", \"dente\", \"sossegar\", \"\\u00ea\", \"lixar\", \"bailar\", \"puta\", \"furar\", \"curtir\", \"fino\", \"batucar_bambo\", \"cad\\u00eancia_bonito\", \"galar\", \"b\\u00eabado\", \"peixe\", \"maluco\", \"porra\", \"derrubar\", \"rock'n'roll\", \"cachorro\", \"papar\", \"t\\u00e1\", \"santo\", \"brasileiro\", \"domingo\", \"dar\", \"homem\", \"caro\", \"subir\", \"rei\", \"entrar\", \"pagar\", \"brasil\", \"mandar\", \"morrer\", \"tirar\", \"jogar\", \"gritar\", \"aqui\", \"todo\", \"pegar\", \"t\\u00f4\", \"a\\u00ed\", \"cabe\\u00e7a\", \"mulher\", \"senhor\", \"rodar\", \"uh\", \"jos\\u00e9\", \"giro\", \"somente\", \"natureza\", \"doutor\", \"doido\", \"fiel\", \"pastar\", \"bandido\", \"moreno\", \"comido\", \"dono_anita\", \"maldizer\", \"\\u00eah_\\u00eah\", \"morder_ci\\u00fame\", \"cabra\", \"levantar_poeira\", \"desconfiar\", \"tico-tico\", \"sab\\u00e3o\", \"satan\\u00e1s_x\\u00f4\", \"quixote\", \"novamente\", \"mulato\", \"colombino\", \"rico\", \"dono_heleno\", \"aventurar\", \"\\u00ea_\\u00ea\", \"z\\u00e9\", \"l\\u00e1\", \"mulher\", \"bocar\", \"rei\", \"veneno\", \"gostar\", \"namorar\", \"rapaz\"], \"Freq\": [6433.0, 862.0, 3430.0, 1274.0, 565.0, 2957.0, 477.0, 380.0, 2270.0, 2197.0, 1974.0, 1921.0, 533.0, 285.0, 1633.0, 493.0, 450.0, 2637.0, 457.0, 467.0, 1867.0, 329.0, 220.0, 399.0, 253.0, 1488.0, 1484.0, 278.0, 1424.0, 1355.0, 6433.11181640625, 3429.958251953125, 2957.224365234375, 2269.56201171875, 2196.965087890625, 1973.833740234375, 1920.8248291015625, 1632.5009765625, 1487.8675537109375, 1483.256103515625, 1424.22021484375, 1350.704833984375, 1304.6903076171875, 1243.5643310546875, 1190.77783203125, 1103.3729248046875, 1092.8076171875, 1111.515869140625, 1108.030029296875, 1087.343994140625, 1060.50439453125, 1024.970703125, 951.9412231445312, 938.249755859375, 898.2578125, 816.3008422851562, 793.9051513671875, 742.269287109375, 691.634765625, 643.6029663085938, 2447.752685546875, 1890.8701171875, 1673.9249267578125, 1259.765869140625, 1053.2265625, 1035.1904296875, 285.1828918457031, 252.30081176757812, 177.66358947753906, 165.805419921875, 101.61115264892578, 97.26429748535156, 99.30743408203125, 94.85399627685547, 96.2117691040039, 95.05207061767578, 90.5081558227539, 93.60797882080078, 90.0203857421875, 83.10212707519531, 76.83777618408203, 69.89893341064453, 69.49693298339844, 72.69213104248047, 69.38673400878906, 66.86036682128906, 67.89421844482422, 66.98535919189453, 62.985694885253906, 68.278564453125, 60.86701583862305, 58.7640266418457, 62.33253860473633, 60.83163833618164, 56.954952239990234, 62.408084869384766, 59.529075622558594, 399.2911682128906, 235.44189453125, 127.4157485961914, 222.94308471679688, 192.5091552734375, 125.82787322998047, 143.80760192871094, 228.7752227783203, 187.54415893554688, 200.7625732421875, 209.64859008789062, 206.22457885742188, 181.3855743408203, 148.14682006835938, 113.92049407958984, 126.7686767578125, 163.5521697998047, 149.5997314453125, 124.60008239746094, 158.47802734375, 192.9875946044922, 113.80349731445312, 189.23614501953125, 137.9121551513672, 111.29387664794922, 153.74131774902344, 96.6630630493164, 70.79107666015625, 61.50615692138672, 62.990352630615234, 61.47642135620117, 61.5456657409668, 55.21192169189453, 57.4676513671875, 56.787841796875, 54.3950309753418, 51.34097671508789, 49.46112823486328, 52.13394546508789, 47.8803825378418, 44.03488540649414, 44.286983489990234, 46.20389175415039, 44.266876220703125, 44.15693283081055, 42.9900016784668, 45.14982223510742, 43.44456481933594, 43.44456481933594, 41.173179626464844, 44.07536315917969, 42.21998977661133, 39.83333969116211, 40.73401641845703, 41.988101959228516, 42.48162078857422, 41.92466735839844, 94.24516296386719, 396.21856689453125, 129.95413208007812, 72.974853515625, 73.35894775390625, 238.3780975341797, 105.79187774658203, 131.62229919433594, 73.08815002441406, 73.80815887451172, 101.1435546875, 66.11822509765625, 70.77799987792969, 76.58331298828125, 95.8774642944336, 76.74784851074219, 78.9651107788086, 70.98263549804688, 95.56092834472656, 100.72246551513672, 66.61392211914062, 67.17936706542969, 65.21744537353516, 63.910396575927734, 64.11970520019531, 149.27999877929688, 147.17189025878906, 80.97661590576172, 64.24137878417969, 59.020145416259766, 59.35869598388672, 56.57500076293945, 50.86893081665039, 56.89444351196289, 42.255306243896484, 35.49284362792969, 31.542606353759766, 35.210880279541016, 31.96410369873047, 29.717063903808594, 31.10130500793457, 28.64211082458496, 23.783977508544922, 29.617149353027344, 23.870359420776367, 25.953330993652344, 23.194225311279297, 24.71966552734375, 21.7831974029541, 21.06934356689453, 21.369047164916992, 19.59258270263672, 21.057647705078125, 20.176912307739258, 19.258346557617188, 21.38675308227539, 21.627975463867188, 39.06865692138672, 299.9307861328125, 143.25579833984375, 64.53794860839844, 50.78018569946289, 27.4737548828125, 41.55192947387695, 27.639240264892578, 24.70254135131836], \"Total\": [6433.0, 862.0, 3430.0, 1274.0, 565.0, 2957.0, 477.0, 380.0, 2270.0, 2197.0, 1974.0, 1921.0, 533.0, 285.0, 1633.0, 493.0, 450.0, 2637.0, 457.0, 467.0, 1867.0, 329.0, 220.0, 399.0, 253.0, 1488.0, 1484.0, 278.0, 1424.0, 1355.0, 6433.8603515625, 3430.70263671875, 2957.973388671875, 2270.2998046875, 2197.7021484375, 1974.5689697265625, 1921.5611572265625, 1633.24658203125, 1488.61279296875, 1484.0040283203125, 1424.966552734375, 1351.44189453125, 1305.432861328125, 1244.3111572265625, 1191.5155029296875, 1104.1070556640625, 1093.5408935546875, 1112.26318359375, 1108.7777099609375, 1088.0904541015625, 1061.2547607421875, 1025.7069091796875, 952.6787719726562, 938.997802734375, 898.9844360351562, 817.0459594726562, 794.644775390625, 743.00244140625, 692.375732421875, 644.3389892578125, 2637.47314453125, 2058.07275390625, 1867.3974609375, 1355.804931640625, 1127.3616943359375, 1274.056884765625, 285.9809875488281, 253.08566284179688, 178.4730224609375, 166.58639526367188, 102.40579223632812, 98.041015625, 100.12147521972656, 95.63276672363281, 97.01543426513672, 95.85452270507812, 91.29006958007812, 94.42633056640625, 90.87472534179688, 83.89599609375, 77.62571716308594, 70.67314910888672, 70.27326965332031, 73.5198974609375, 70.18335723876953, 67.64614868164062, 68.70909118652344, 67.8071060180664, 63.776206970214844, 69.14547729492188, 61.64341354370117, 59.54680633544922, 63.17557907104492, 61.6741828918457, 57.744144439697266, 63.276268005371094, 60.36465072631836, 477.4225769042969, 278.50201416015625, 153.72320556640625, 329.5683898925781, 321.3293151855469, 178.46807861328125, 223.84425354003906, 467.86956787109375, 342.1775207519531, 399.554931640625, 450.203369140625, 457.4566955566406, 395.2937927246094, 294.8434143066406, 185.2245330810547, 237.12588500976562, 579.5841064453125, 456.32293701171875, 270.45928955078125, 698.462890625, 1867.3974609375, 213.6975860595703, 2637.47314453125, 559.872314453125, 219.36917114257812, 154.5269317626953, 97.45435333251953, 71.57709503173828, 62.26602554321289, 63.7737922668457, 62.26584243774414, 62.36929702758789, 55.99587631225586, 58.28963851928711, 57.649620056152344, 55.220760345458984, 52.122501373291016, 50.262603759765625, 53.00251388549805, 48.70431137084961, 44.799259185791016, 45.06010055541992, 47.01499938964844, 45.053550720214844, 44.965240478515625, 43.78019332885742, 45.997859954833984, 44.268516540527344, 44.268516540527344, 41.95609664916992, 44.92463684082031, 43.0359992980957, 40.63594055175781, 41.56059646606445, 42.85213088989258, 43.40757751464844, 42.82217788696289, 99.70988464355469, 565.076171875, 166.3019256591797, 85.71106719970703, 96.96102905273438, 1274.056884765625, 269.3534240722656, 493.0941467285156, 145.24041748046875, 155.88272094726562, 340.58990478515625, 145.90711975097656, 185.2245330810547, 242.9275665283203, 513.8951416015625, 261.5460510253906, 320.9437255859375, 227.295654296875, 1355.804931640625, 2058.07275390625, 206.23294067382812, 395.2937927246094, 377.50445556640625, 276.1325378417969, 380.5975646972656, 150.11680603027344, 148.0345001220703, 81.93827819824219, 65.1654281616211, 59.91964340209961, 60.265743255615234, 57.48046112060547, 51.713836669921875, 57.85673522949219, 43.13143539428711, 36.31924819946289, 32.373233795166016, 36.13859558105469, 32.814815521240234, 30.56071662902832, 32.015647888183594, 29.578855514526367, 24.582399368286133, 30.617765426635742, 24.70592498779297, 26.87860107421875, 24.08988380432129, 25.68528938293457, 22.636882781982422, 21.92211151123047, 22.26740837097168, 20.422225952148438, 21.957021713256836, 21.04389762878418, 20.105497360229492, 22.46598243713379, 22.743682861328125, 51.2547607421875, 862.4302978515625, 380.5975646972656, 220.3192138671875, 155.88272094726562, 40.33342361450195, 533.86181640625, 145.05055236816406, 85.03748321533203], \"Category\": [\"Default\", \"Default\", \"Default\", \"Default\", \"Default\", \"Default\", \"Default\", \"Default\", \"Default\", \"Default\", \"Default\", \"Default\", \"Default\", \"Default\", \"Default\", \"Default\", \"Default\", \"Default\", \"Default\", \"Default\", \"Default\", \"Default\", \"Default\", \"Default\", \"Default\", \"Default\", \"Default\", \"Default\", \"Default\", \"Default\", \"Topic1\", \"Topic1\", \"Topic1\", \"Topic1\", \"Topic1\", \"Topic1\", \"Topic1\", \"Topic1\", \"Topic1\", \"Topic1\", \"Topic1\", \"Topic1\", \"Topic1\", \"Topic1\", \"Topic1\", \"Topic1\", \"Topic1\", \"Topic1\", \"Topic1\", \"Topic1\", \"Topic1\", \"Topic1\", \"Topic1\", \"Topic1\", \"Topic1\", \"Topic1\", \"Topic1\", \"Topic1\", \"Topic1\", \"Topic1\", \"Topic1\", \"Topic1\", \"Topic1\", \"Topic1\", \"Topic1\", \"Topic1\", \"Topic2\", \"Topic2\", \"Topic2\", \"Topic2\", \"Topic2\", \"Topic2\", \"Topic2\", \"Topic2\", \"Topic2\", \"Topic2\", \"Topic2\", \"Topic2\", \"Topic2\", \"Topic2\", \"Topic2\", \"Topic2\", \"Topic2\", \"Topic2\", \"Topic2\", \"Topic2\", \"Topic2\", \"Topic2\", \"Topic2\", \"Topic2\", \"Topic2\", \"Topic2\", \"Topic2\", \"Topic2\", \"Topic2\", \"Topic2\", \"Topic2\", \"Topic2\", \"Topic2\", \"Topic2\", \"Topic2\", \"Topic2\", \"Topic2\", \"Topic2\", \"Topic2\", \"Topic2\", \"Topic2\", \"Topic2\", \"Topic2\", \"Topic2\", \"Topic2\", \"Topic2\", \"Topic2\", \"Topic2\", \"Topic2\", \"Topic2\", \"Topic2\", \"Topic2\", \"Topic2\", \"Topic2\", \"Topic2\", \"Topic2\", \"Topic3\", \"Topic3\", \"Topic3\", \"Topic3\", \"Topic3\", \"Topic3\", \"Topic3\", \"Topic3\", \"Topic3\", \"Topic3\", \"Topic3\", \"Topic3\", \"Topic3\", \"Topic3\", \"Topic3\", \"Topic3\", \"Topic3\", \"Topic3\", \"Topic3\", \"Topic3\", \"Topic3\", \"Topic3\", \"Topic3\", \"Topic3\", \"Topic3\", \"Topic3\", \"Topic3\", \"Topic3\", \"Topic3\", \"Topic3\", \"Topic3\", \"Topic3\", \"Topic3\", \"Topic3\", \"Topic3\", \"Topic3\", \"Topic3\", \"Topic3\", \"Topic3\", \"Topic3\", \"Topic3\", \"Topic3\", \"Topic3\", \"Topic3\", \"Topic3\", \"Topic3\", \"Topic3\", \"Topic3\", \"Topic3\", \"Topic3\", \"Topic3\", \"Topic3\", \"Topic3\", \"Topic3\", \"Topic3\", \"Topic3\", \"Topic3\", \"Topic4\", \"Topic4\", \"Topic4\", \"Topic4\", \"Topic4\", \"Topic4\", \"Topic4\", \"Topic4\", \"Topic4\", \"Topic4\", \"Topic4\", \"Topic4\", \"Topic4\", \"Topic4\", \"Topic4\", \"Topic4\", \"Topic4\", \"Topic4\", \"Topic4\", \"Topic4\", \"Topic4\", \"Topic4\", \"Topic4\", \"Topic4\", \"Topic4\", \"Topic4\", \"Topic4\", \"Topic4\", \"Topic4\", \"Topic4\", \"Topic4\", \"Topic4\", \"Topic4\", \"Topic4\", \"Topic4\", \"Topic4\", \"Topic4\", \"Topic4\", \"Topic4\", \"Topic4\", \"Topic4\"], \"logprob\": [30.0, 29.0, 28.0, 27.0, 26.0, 25.0, 24.0, 23.0, 22.0, 21.0, 20.0, 19.0, 18.0, 17.0, 16.0, 15.0, 14.0, 13.0, 12.0, 11.0, 10.0, 9.0, 8.0, 7.0, 6.0, 5.0, 4.0, 3.0, 2.0, 1.0, -3.1730000972747803, -3.8018999099731445, -3.950200080871582, -4.214900016784668, -4.247399806976318, -4.354499816894531, -4.381700038909912, -4.544300079345703, -4.6371002197265625, -4.640200138092041, -4.680799961090088, -4.733799934387207, -4.768499851226807, -4.816500186920166, -4.859799861907959, -4.936100006103516, -4.945700168609619, -4.928699970245361, -4.9319000244140625, -4.950699806213379, -4.9756999015808105, -5.009799957275391, -5.083700180053711, -5.098199844360352, -5.14169979095459, -5.237400054931641, -5.265200138092041, -5.332499980926514, -5.40310001373291, -5.475100040435791, -4.1392998695373535, -4.39739990234375, -4.5192999839782715, -4.803500175476074, -4.982600212097168, -4.999899864196777, -4.677000045776367, -4.799499988555908, -5.150199890136719, -5.219299793243408, -5.709000110626221, -5.752699851989746, -5.731900215148926, -5.7778000831604, -5.763599872589111, -5.775700092315674, -5.824699878692627, -5.790999889373779, -5.830100059509277, -5.909999847412109, -5.988399982452393, -6.083099842071533, -6.088799953460693, -6.043900012969971, -6.090400218963623, -6.127500057220459, -6.112199783325195, -6.1255998611450195, -6.18720006942749, -6.106500148773193, -6.221399784088135, -6.2565999031066895, -6.1975998878479, -6.2220001220703125, -6.287899971008301, -6.196400165557861, -6.24370002746582, -4.340400218963623, -4.86870002746582, -5.482699871063232, -4.9232001304626465, -5.070000171661377, -5.495200157165527, -5.361599922180176, -4.89739990234375, -5.096099853515625, -5.0279998779296875, -4.9847002029418945, -5.001200199127197, -5.129499912261963, -5.331900119781494, -5.594600200653076, -5.487800121307373, -5.232999801635742, -5.322199821472168, -5.505000114440918, -5.264500141143799, -5.067500114440918, -5.595600128173828, -5.087100028991699, -5.403500080108643, -5.6178998947143555, -5.000400066375732, -5.464399814605713, -5.775899887084961, -5.916500091552734, -5.8927001953125, -5.916999816894531, -5.915900230407715, -6.024499893188477, -5.984399795532227, -5.996300220489502, -6.039400100708008, -6.0971999168396, -6.134500026702881, -6.081900119781494, -6.166999816894531, -6.250699996948242, -6.244999885559082, -6.202600002288818, -6.2453999519348145, -6.247900009155273, -6.274700164794922, -6.2256999015808105, -6.264200210571289, -6.264200210571289, -6.31790018081665, -6.249800205230713, -6.292799949645996, -6.35099983215332, -6.32859992980957, -6.298299789428711, -6.286600112915039, -6.299799919128418, -5.489799976348877, -4.053699970245361, -5.168499946594238, -5.74560022354126, -5.740300178527832, -4.561800003051758, -5.374199867248535, -5.155700206756592, -5.74399995803833, -5.7342000007629395, -5.419099807739258, -5.844200134277344, -5.776100158691406, -5.697299957275391, -5.472599983215332, -5.695099830627441, -5.6666998863220215, -5.773200035095215, -5.475900173187256, -5.423299789428711, -5.8368000984191895, -5.8282999992370605, -5.857900142669678, -5.878200054168701, -5.874899864196777, -4.248600006103516, -4.262800216674805, -4.860199928283691, -5.091800212860107, -5.176499843597412, -5.17080020904541, -5.218800067901611, -5.325200080871582, -5.213200092315674, -5.510700225830078, -5.685100078582764, -5.803100109100342, -5.6930999755859375, -5.78980016708374, -5.86269998550415, -5.817200183868408, -5.899499893188477, -6.085400104522705, -5.866099834442139, -6.0817999839782715, -5.9980998039245605, -6.110499858856201, -6.046800136566162, -6.173299789428711, -6.206600189208984, -6.192500114440918, -6.279300212860107, -6.207099914550781, -6.249899864196777, -6.296500205993652, -6.1915998458862305, -6.1803998947143555, -5.589099884033203, -3.5508999824523926, -4.28980016708374, -5.087200164794922, -5.326900005340576, -5.941199779510498, -5.527500152587891, -5.935200214385986, -6.047500133514404], \"loglift\": [30.0, 29.0, 28.0, 27.0, 26.0, 25.0, 24.0, 23.0, 22.0, 21.0, 20.0, 19.0, 18.0, 17.0, 16.0, 15.0, 14.0, 13.0, 12.0, 11.0, 10.0, 9.0, 8.0, 7.0, 6.0, 5.0, 4.0, 3.0, 2.0, 1.0, 0.34779998660087585, 0.34769999980926514, 0.34769999980926514, 0.3476000130176544, 0.3476000130176544, 0.3474999964237213, 0.3474999964237213, 0.3474000096321106, 0.3474000096321106, 0.3474000096321106, 0.3474000096321106, 0.3474000096321106, 0.3472999930381775, 0.3472999930381775, 0.3472999930381775, 0.3472000062465668, 0.3472000062465668, 0.3472000062465668, 0.3472000062465668, 0.3472000062465668, 0.3472000062465668, 0.3472000062465668, 0.34709998965263367, 0.34709998965263367, 0.34709998965263367, 0.34700000286102295, 0.34700000286102295, 0.34689998626708984, 0.3467999994754791, 0.3467999994754791, 0.2732999920845032, 0.2632000148296356, 0.23849999904632568, 0.274399995803833, 0.2799000144004822, 0.14030000567436218, 1.957200050354004, 1.9569000005722046, 1.955399990081787, 1.955299973487854, 1.9522000551223755, 1.9520000219345093, 1.951799988746643, 1.951799988746643, 1.95169997215271, 1.9515999555587769, 1.9514000415802002, 1.951300024986267, 1.9505000114440918, 1.9505000114440918, 1.9498000144958496, 1.9490000009536743, 1.9488999843597412, 1.948699951171875, 1.9486000537872314, 1.9483000040054321, 1.948099970817566, 1.9478000402450562, 1.9474999904632568, 1.9473999738693237, 1.9472999572753906, 1.9467999935150146, 1.9465999603271484, 1.9462000131607056, 1.9462000131607056, 1.9462000131607056, 1.9459999799728394, 1.7812999486923218, 1.7920000553131104, 1.7723000049591064, 1.569100022315979, 1.447700023651123, 1.6104999780654907, 1.5175000429153442, 1.2445000410079956, 1.3587000370025635, 1.2718000411987305, 1.1957000494003296, 1.1633000373840332, 1.180999994277954, 1.2717000246047974, 1.4738999605178833, 1.333799958229065, 0.6948000192642212, 0.8446999788284302, 1.184999942779541, 0.4767000079154968, -0.30970001220703125, 1.3299000263214111, -0.6746000051498413, 0.558899998664856, 1.2813999652862549, 2.249300003051758, 2.246299982070923, 2.2434000968933105, 2.2421998977661133, 2.2421000003814697, 2.2416999340057373, 2.2411000728607178, 2.240299940109253, 2.2402000427246094, 2.2393999099731445, 2.2393999099731445, 2.239300012588501, 2.2383999824523926, 2.2379000186920166, 2.2374000549316406, 2.2372000217437744, 2.2370998859405518, 2.236999988555908, 2.236799955368042, 2.236299991607666, 2.2362000942230225, 2.23580002784729, 2.235599994659424, 2.235599994659424, 2.235599994659424, 2.235300064086914, 2.235300064086914, 2.234499931335449, 2.234299898147583, 2.234100103378296, 2.2328999042510986, 2.233299970626831, 2.1981000900268555, 1.899399995803833, 2.0078001022338867, 2.093600034713745, 1.9754999876022339, 0.5782999992370605, 1.3199000358581543, 0.9337000250816345, 1.5677000284194946, 1.5068000555038452, 1.0403000116348267, 1.4629000425338745, 1.2924000024795532, 1.100100040435791, 0.5755000114440918, 1.0283000469207764, 0.8521999716758728, 1.0906000137329102, -0.39800000190734863, -0.7627000212669373, 1.1243000030517578, 0.4821999967098236, 0.4986000061035156, 0.7910000085830688, 0.4733999967575073, 3.030100107192993, 3.029900074005127, 3.023900032043457, 3.021399974822998, 3.0206000804901123, 3.0204999446868896, 3.0197999477386475, 3.019200086593628, 3.018899917602539, 3.015199899673462, 3.012700080871582, 3.009700059890747, 3.009700059890747, 3.009399890899658, 3.007699966430664, 3.006700038909912, 3.003499984741211, 3.002700090408325, 3.002500057220459, 3.001300096511841, 3.000699996948242, 2.99780011177063, 2.9974000453948975, 2.997299909591675, 2.996000051498413, 2.994499921798706, 2.9941999912261963, 2.9939000606536865, 2.9935998916625977, 2.9925999641418457, 2.9865000247955322, 2.9853999614715576, 2.76419997215271, 1.9795000553131104, 2.0585999488830566, 1.8078999519348145, 1.9141000509262085, 2.651700019836426, 0.48249998688697815, 1.3777999877929688, 1.7994999885559082]}, \"token.table\": {\"Topic\": [3, 1, 2, 1, 2, 1, 2, 1, 3, 1, 4, 2, 1, 3, 3, 3, 4, 2, 3, 1, 3, 1, 4, 2, 2, 3, 1, 3, 3, 1, 2, 3, 4, 3, 3, 1, 2, 3, 3, 1, 2, 2, 1, 3, 1, 2, 3, 1, 2, 1, 2, 1, 2, 4, 3, 4, 2, 1, 2, 3, 1, 2, 3, 1, 2, 1, 3, 1, 3, 1, 2, 3, 4, 1, 1, 4, 1, 3, 4, 4, 4, 2, 1, 3, 1, 1, 4, 3, 2, 3, 2, 3, 3, 3, 3, 1, 4, 1, 4, 1, 3, 1, 1, 3, 1, 2, 1, 3, 4, 3, 4, 3, 1, 2, 2, 1, 1, 2, 1, 2, 3, 4, 4, 3, 1, 3, 1, 2, 1, 2, 4, 2, 4, 4, 1, 2, 3, 4, 1, 3, 4, 2, 1, 2, 1, 2, 1, 1, 4, 4, 1, 1, 2, 4, 2, 1, 1, 2, 1, 1, 1, 3, 3, 4, 1, 4, 2, 1, 2, 3, 3, 1, 2, 2, 2, 1, 2, 3, 1, 2, 2, 2, 3, 1, 2, 2, 1, 4, 1, 4, 1, 3, 4, 4, 3, 4, 1, 2, 1, 4, 2, 3, 4, 4, 1, 4, 2, 1, 2, 2, 2, 4, 3, 2, 3, 3, 2, 1, 2, 4, 1, 3, 1, 2, 3, 1, 1, 2, 3, 1, 1, 2, 3, 4, 3, 4, 1, 2, 1, 1, 2, 1, 2, 3, 3, 4, 2, 3, 3, 4, 4, 3, 3], \"Freq\": [0.9887315630912781, 0.29136863350868225, 0.7060086131095886, 0.7519571781158447, 0.24648477137088776, 0.1691351681947708, 0.8261602520942688, 0.929337203502655, 0.07080664485692978, 0.9995673298835754, 0.9347465634346008, 0.9964799284934998, 0.8264803290367126, 0.17218339443206787, 0.982215166091919, 0.9784111380577087, 0.9884709119796753, 0.9895623326301575, 0.9713449478149414, 0.999321699142456, 0.9919374585151672, 0.703524649143219, 0.2950264811515808, 0.9887988567352295, 0.615469217300415, 0.38331854343414307, 0.14000526070594788, 0.851698637008667, 0.9794180393218994, 0.6482394337654114, 0.11950782686471939, 0.2317727655172348, 0.9798232913017273, 0.980800211429596, 0.9713449478149414, 0.6114091277122498, 0.3287145793437958, 0.06136005371809006, 0.9778753519058228, 0.4923207759857178, 0.5059963464736938, 0.9960374236106873, 0.7321116924285889, 0.26769736409187317, 0.2010326385498047, 0.6433044075965881, 0.1518913209438324, 0.46388861536979675, 0.5355805158615112, 0.3983452320098877, 0.6006299257278442, 0.998650848865509, 0.9813918471336365, 0.9564138650894165, 0.9878666400909424, 0.97516930103302, 0.9834337830543518, 0.9987198114395142, 0.9893201589584351, 0.9821792840957642, 0.16337727010250092, 0.8357375860214233, 0.9940788745880127, 0.45005878806114197, 0.5494224429130554, 0.8123655915260315, 0.1868048459291458, 0.9993234276771545, 0.9810855388641357, 0.5361250638961792, 0.46217676997184753, 0.9801146388053894, 0.9673122763633728, 0.9998490214347839, 0.9998679161071777, 0.9851921200752258, 0.23720870912075043, 0.752879798412323, 0.9816523790359497, 0.9450151920318604, 0.9861963987350464, 0.9798302054405212, 0.7017236948013306, 0.29654431343078613, 0.9996709227561951, 0.9997499585151672, 0.9737677574157715, 0.9783064126968384, 0.9954850673675537, 0.9957275986671448, 0.9831390380859375, 0.9784641861915588, 0.9785336256027222, 0.9772119522094727, 0.9778931140899658, 0.9997633695602417, 0.984652042388916, 0.921586811542511, 0.07867204397916794, 0.6863307356834412, 0.3123684823513031, 0.9994572997093201, 0.6051529049873352, 0.39353498816490173, 0.9998663067817688, 0.9895332455635071, 0.7509104609489441, 0.24614907801151276, 0.9821158647537231, 0.9953377842903137, 0.9714269042015076, 0.9764736294746399, 0.15439744293689728, 0.8438000082969666, 0.9818811416625977, 0.9994738698005676, 0.5330924391746521, 0.4664558470249176, 0.5206217765808105, 0.07188986986875534, 0.060294728726148605, 0.3478541970252991, 0.9682765007019043, 0.9843502640724182, 0.6833312511444092, 0.3169669210910797, 0.5486857891082764, 0.4503158628940582, 0.48304060101509094, 0.48945266008377075, 0.027785521000623703, 0.9919393062591553, 0.976308286190033, 0.968493640422821, 0.7005320191383362, 0.11286348849534988, 0.1868085414171219, 0.9793251752853394, 0.45454835891723633, 0.16815662384033203, 0.3757249414920807, 0.9939591884613037, 0.9996684193611145, 0.9973496198654175, 0.7177560329437256, 0.28296151757240295, 0.9996730089187622, 0.8066153526306152, 0.19303615391254425, 0.9916413426399231, 0.9997599720954895, 0.7731262445449829, 0.22621101140975952, 0.943082332611084, 0.9878292083740234, 0.9991886019706726, 0.9340391755104065, 0.06563998013734818, 0.9989978075027466, 0.9992985725402832, 0.5414403080940247, 0.45234256982803345, 0.9427350163459778, 0.050145480781793594, 0.9989373683929443, 0.9636763334274292, 0.9893818497657776, 0.533377468585968, 0.14061769843101501, 0.3248753547668457, 0.9759271740913391, 0.9995054006576538, 0.9890686273574829, 0.9904481172561646, 0.9880970120429993, 0.9997118711471558, 0.9904751777648926, 0.9865113496780396, 0.46327149868011475, 0.5334641337394714, 0.9871130585670471, 0.9896798133850098, 0.9766156077384949, 0.3216328024864197, 0.6766425371170044, 0.9929285049438477, 0.9997951984405518, 0.9579369425773621, 0.7055712342262268, 0.29398801922798157, 0.19886745512485504, 0.47471585869789124, 0.3271690309047699, 0.9503942728042603, 0.9675729870796204, 0.9930117726325989, 0.49555137753486633, 0.5030597448348999, 0.9997079968452454, 0.9733197689056396, 0.18039478361606598, 0.7817107439041138, 0.036078955978155136, 0.9718652367591858, 0.9989973306655884, 0.9925604462623596, 0.9903743863105774, 0.9989049434661865, 0.9968225359916687, 0.9910852313041687, 0.9933833479881287, 0.9789972901344299, 0.9855390191078186, 0.4957297742366791, 0.5026149153709412, 0.9748798608779907, 0.9908171892166138, 0.999287486076355, 0.9965697526931763, 0.9547576308250427, 0.7035089731216431, 0.29440322518348694, 0.9188207983970642, 0.03206883743405342, 0.049075037240982056, 0.9996805191040039, 0.2583722472190857, 0.03893280401825905, 0.7007904648780823, 0.9993107914924622, 0.3718753159046173, 0.45788729190826416, 0.16949418187141418, 0.9885489344596863, 0.2975199818611145, 0.6694200038909912, 0.928161084651947, 0.07165949791669846, 0.9995883703231812, 0.8964347839355469, 0.10335239768028259, 0.33577144145965576, 0.501961350440979, 0.16279827058315277, 0.2341245859861374, 0.7609049081802368, 0.9957103133201599, 0.9821590781211853, 0.04396825283765793, 0.9673015475273132, 0.9804300665855408, 0.9796703457832336, 0.9965900182723999], \"Term\": [\"'s\", \"ali\", \"ali\", \"andar\", \"andar\", \"anjo\", \"anjo\", \"aqui\", \"aqui\", \"assim\", \"aventurar\", \"azul\", \"a\\u00ed\", \"a\\u00ed\", \"baiano\", \"bailar\", \"bandido\", \"barco\", \"batucar_bambo\", \"bem\", \"bichar\", \"bocar\", \"bocar\", \"branco\", \"brasil\", \"brasil\", \"brasileiro\", \"brasileiro\", \"b\\u00eabado\", \"cabe\\u00e7a\", \"cabe\\u00e7a\", \"cabe\\u00e7a\", \"cabra\", \"cachorro\", \"cad\\u00eancia_bonito\", \"cair\", \"cair\", \"cair\", \"caminh\\u00e3o\", \"cansar\", \"cansar\", \"carnaval\", \"caro\", \"caro\", \"carro\", \"carro\", \"carro\", \"chuva\", \"chuva\", \"ch\\u00e3o\", \"ch\\u00e3o\", \"coisa\", \"colar\", \"colombino\", \"comer\", \"comido\", \"confus\\u00e3o\", \"cora\\u00e7\\u00e3o\", \"cruzar\", \"curtir\", \"c\\u00e9u\", \"c\\u00e9u\", \"danar\", \"dan\\u00e7ar\", \"dan\\u00e7ar\", \"dar\", \"dar\", \"deixar\", \"dente\", \"dentro\", \"dentro\", \"derrubar\", \"desconfiar\", \"dia\", \"dizer\", \"doido\", \"domingo\", \"domingo\", \"dono_anita\", \"dono_heleno\", \"doutor\", \"eis\", \"entrar\", \"entrar\", \"fazer\", \"ficar\", \"fiel\", \"fino\", \"flor\", \"foder\", \"frutar\", \"fumar\", \"furar\", \"galar\", \"gar\\u00e7om\", \"gente\", \"giro\", \"gostar\", \"gostar\", \"gritar\", \"gritar\", \"hoje\", \"homem\", \"homem\", \"ir\", \"jardim\", \"jogar\", \"jogar\", \"jos\\u00e9\", \"jo\\u00e3o\", \"levantar_poeira\", \"lixar\", \"lua\", \"lua\", \"luar\", \"lugar\", \"luzir\", \"luzir\", \"l\\u00e1\", \"l\\u00e1\", \"l\\u00e1\", \"l\\u00e1\", \"maldizer\", \"maluco\", \"mandar\", \"mandar\", \"medo\", \"medo\", \"menino\", \"menino\", \"menino\", \"molhar\", \"morder_ci\\u00fame\", \"moreno\", \"morrer\", \"morrer\", \"morrer\", \"mulato\", \"mulher\", \"mulher\", \"mulher\", \"multid\\u00e3o\", \"mundo\", \"m\\u00e3e\", \"m\\u00e3o\", \"m\\u00e3o\", \"nado\", \"namorar\", \"namorar\", \"natureza\", \"ningu\\u00e9m\", \"noite\", \"noite\", \"novamente\", \"nu\", \"nunca\", \"olhar\", \"olhar\", \"onde\", \"outro\", \"pagar\", \"pagar\", \"papar\", \"papar\", \"passar\", \"pastar\", \"pedrar\", \"pegar\", \"pegar\", \"pegar\", \"peixe\", \"pensar\", \"pingar\", \"pintar\", \"pobre\", \"poder\", \"pol\\u00edcia\", \"porra\", \"preciso\", \"preciso\", \"preto\", \"pr\\u00edncipe\", \"puta\", \"p\\u00e9\", \"p\\u00e9\", \"quatro\", \"querer\", \"quixote\", \"rapaz\", \"rapaz\", \"rei\", \"rei\", \"rei\", \"rico\", \"rock'n'roll\", \"rodar\", \"ruir\", \"ruir\", \"saber\", \"sab\\u00e3o\", \"santo\", \"santo\", \"santo\", \"satan\\u00e1s_x\\u00f4\", \"sempre\", \"senhor\", \"sentar\", \"sentir\", \"sete\", \"sexo\", \"sombra\", \"somente\", \"sossegar\", \"subir\", \"subir\", \"sujar\", \"sul\", \"tanto\", \"terra\", \"tico-tico\", \"tirar\", \"tirar\", \"todo\", \"todo\", \"todo\", \"tudo\", \"t\\u00e1\", \"t\\u00e1\", \"t\\u00e1\", \"t\\u00e3o\", \"t\\u00f4\", \"t\\u00f4\", \"t\\u00f4\", \"uh\", \"veneno\", \"veneno\", \"ver\", \"ver\", \"vidar\", \"vir\", \"vir\", \"virar\", \"virar\", \"virar\", \"z\\u00e9\", \"z\\u00e9\", \"\\u00e1gua\", \"\\u00ea\", \"\\u00ea_\\u00ea\", \"\\u00ea_\\u00ea\", \"\\u00eah_\\u00eah\", \"\\u00f3i\", \"\\u00f4\"]}, \"R\": 30, \"lambda.step\": 0.01, \"plot.opts\": {\"xlab\": \"PC1\", \"ylab\": \"PC2\"}, \"topic.order\": [1, 4, 2, 3]};\n",
       "\n",
       "function LDAvis_load_lib(url, callback){\n",
       "  var s = document.createElement('script');\n",
       "  s.src = url;\n",
       "  s.async = true;\n",
       "  s.onreadystatechange = s.onload = callback;\n",
       "  s.onerror = function(){console.warn(\"failed to load library \" + url);};\n",
       "  document.getElementsByTagName(\"head\")[0].appendChild(s);\n",
       "}\n",
       "\n",
       "if(typeof(LDAvis) !== \"undefined\"){\n",
       "   // already loaded: just create the visualization\n",
       "   !function(LDAvis){\n",
       "       new LDAvis(\"#\" + \"ldavis_el3850252007636966789040009\", ldavis_el3850252007636966789040009_data);\n",
       "   }(LDAvis);\n",
       "}else if(typeof define === \"function\" && define.amd){\n",
       "   // require.js is available: use it to load d3/LDAvis\n",
       "   require.config({paths: {d3: \"https://cdnjs.cloudflare.com/ajax/libs/d3/3.5.5/d3.min\"}});\n",
       "   require([\"d3\"], function(d3){\n",
       "      window.d3 = d3;\n",
       "      LDAvis_load_lib(\"https://cdn.rawgit.com/bmabey/pyLDAvis/files/ldavis.v1.0.0.js\", function(){\n",
       "        new LDAvis(\"#\" + \"ldavis_el3850252007636966789040009\", ldavis_el3850252007636966789040009_data);\n",
       "      });\n",
       "    });\n",
       "}else{\n",
       "    // require.js not available: dynamically load d3 & LDAvis\n",
       "    LDAvis_load_lib(\"https://cdnjs.cloudflare.com/ajax/libs/d3/3.5.5/d3.min.js\", function(){\n",
       "         LDAvis_load_lib(\"https://cdn.rawgit.com/bmabey/pyLDAvis/files/ldavis.v1.0.0.js\", function(){\n",
       "                 new LDAvis(\"#\" + \"ldavis_el3850252007636966789040009\", ldavis_el3850252007636966789040009_data);\n",
       "            })\n",
       "         });\n",
       "}\n",
       "</script>"
      ],
      "text/plain": [
       "PreparedData(topic_coordinates=              x         y  topics  cluster       Freq\n",
       "topic                                                \n",
       "0     -0.324941 -0.096480       1        1  70.616554\n",
       "3     -0.010089  0.278350       2        1  14.086035\n",
       "1      0.123710 -0.112898       3        1  10.493287\n",
       "2      0.211320 -0.068973       4        1   4.804123, topic_info=         Term         Freq        Total Category  logprob  loglift\n",
       "23         ir  6433.000000  6433.000000  Default  30.0000  30.0000\n",
       "127        lá   862.000000   862.000000  Default  29.0000  29.0000\n",
       "43     querer  3430.000000  3430.000000  Default  28.0000  28.0000\n",
       "152       dar  1274.000000  1274.000000  Default  27.0000  27.0000\n",
       "491        tá   565.000000   565.000000  Default  26.0000  26.0000\n",
       "...       ...          ...          ...      ...      ...      ...\n",
       "452       rei    50.780186   155.882721   Topic4  -5.3269   1.9141\n",
       "1898   veneno    27.473755    40.333424   Topic4  -5.9412   2.6517\n",
       "164    gostar    41.551929   533.861816   Topic4  -5.5275   0.4825\n",
       "1547  namorar    27.639240   145.050552   Topic4  -5.9352   1.3778\n",
       "1057    rapaz    24.702541    85.037483   Topic4  -6.0475   1.7995\n",
       "\n",
       "[220 rows x 6 columns], token_table=       Topic      Freq   Term\n",
       "term                         \n",
       "336        3  0.988732     's\n",
       "439        1  0.291369    ali\n",
       "439        2  0.706009    ali\n",
       "190        1  0.751957  andar\n",
       "190        2  0.246485  andar\n",
       "...      ...       ...    ...\n",
       "5860       3  0.043968    ê_ê\n",
       "5860       4  0.967302    ê_ê\n",
       "8225       4  0.980430  êh_êh\n",
       "11854      3  0.979670     ói\n",
       "2159       3  0.996590      ô\n",
       "\n",
       "[253 rows x 3 columns], R=30, lambda_step=0.01, plot_opts={'xlab': 'PC1', 'ylab': 'PC2'}, topic_order=[1, 4, 2, 3])"
      ]
     },
     "execution_count": 51,
     "metadata": {},
     "output_type": "execute_result"
    }
   ],
   "source": [
    "\n",
    "# Visualize the topics\n",
    "\n",
    "# Plotting tools\n",
    "import pyLDAvis\n",
    "import pyLDAvis.gensim  # don't skip this\n",
    "pyLDAvis.enable_notebook()\n",
    "vis = pyLDAvis.gensim.prepare(lda_model, corpus, id2word)\n",
    "vis"
   ]
  },
  {
   "cell_type": "code",
   "execution_count": 52,
   "metadata": {},
   "outputs": [
    {
     "name": "stdout",
     "output_type": "stream",
     "text": [
      "[(0,\n",
      "  '0.042*\"ir\" + 0.022*\"querer\" + 0.019*\"fazer\" + 0.016*\"ver\" + 0.015*\"dizer\" + '\n",
      "  '0.014*\"tudo\" + 0.013*\"poder\" + 0.013*\"saber\" + 0.012*\"todo\" + 0.011*\"vir\"'),\n",
      " (1,\n",
      "  '0.017*\"tá\" + 0.010*\"dar\" + 0.007*\"ô\" + 0.006*\"caro\" + 0.006*\"santo\" + '\n",
      "  '0.005*\"homem\" + 0.004*\"entrar\" + 0.004*\"todo\" + 0.004*\"joão\" + '\n",
      "  '0.004*\"morrer\"'),\n",
      " (2,\n",
      "  '0.029*\"lá\" + 0.014*\"senhor\" + 0.014*\"rodar\" + 0.014*\"mulher\" + 0.008*\"uh\" + '\n",
      "  '0.006*\"bocar\" + 0.006*\"josé\" + 0.006*\"somente\" + 0.006*\"giro\" + '\n",
      "  '0.005*\"doido\"'),\n",
      " (3,\n",
      "  '0.013*\"céu\" + 0.009*\"terra\" + 0.008*\"água\" + 0.008*\"lua\" + 0.007*\"menino\" + '\n",
      "  '0.007*\"pé\" + 0.007*\"luzir\" + 0.007*\"medo\" + 0.007*\"ruir\" + 0.006*\"vir\"')]\n"
     ]
    }
   ],
   "source": [
    "from pprint import pprint\n",
    "\n",
    "pprint(lda_model.print_topics())\n",
    "doc_lda = lda_model[corpus]"
   ]
  }
 ],
 "metadata": {
  "kernelspec": {
   "display_name": "Python 3",
   "language": "python",
   "name": "python3"
  },
  "language_info": {
   "codemirror_mode": {
    "name": "ipython",
    "version": 3
   },
   "file_extension": ".py",
   "mimetype": "text/x-python",
   "name": "python",
   "nbconvert_exporter": "python",
   "pygments_lexer": "ipython3",
   "version": "3.8.2"
  }
 },
 "nbformat": 4,
 "nbformat_minor": 4
}
